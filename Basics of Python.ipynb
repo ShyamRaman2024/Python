{
 "cells": [
  {
   "cell_type": "markdown",
   "id": "a6e841ef-ead6-411e-af22-068cfec88ff3",
   "metadata": {},
   "source": [
    "# <center> Basics of Python"
   ]
  },
  {
   "cell_type": "markdown",
   "id": "4585fb3a-9acc-4319-a02e-fa503e872bf6",
   "metadata": {},
   "source": [
    "# Creating Variables"
   ]
  },
  {
   "cell_type": "code",
   "execution_count": 8,
   "id": "838a28f1-702a-47fa-9154-4adec9e1d156",
   "metadata": {},
   "outputs": [],
   "source": [
    "mytext = \"Hello\""
   ]
  },
  {
   "cell_type": "code",
   "execution_count": 10,
   "id": "f443facb-3e7a-4f89-bdd1-93a53e83796c",
   "metadata": {},
   "outputs": [
    {
     "name": "stdout",
     "output_type": "stream",
     "text": [
      "Hello\n"
     ]
    }
   ],
   "source": [
    "print(mytext)"
   ]
  },
  {
   "cell_type": "code",
   "execution_count": 12,
   "id": "640209c5-cb8a-45e7-be64-86f25765186c",
   "metadata": {},
   "outputs": [
    {
     "data": {
      "text/plain": [
       "'Hello'"
      ]
     },
     "execution_count": 12,
     "metadata": {},
     "output_type": "execute_result"
    }
   ],
   "source": [
    "mytext"
   ]
  },
  {
   "cell_type": "code",
   "execution_count": 14,
   "id": "ccf77865-359b-4001-b8c6-427262f6dc46",
   "metadata": {},
   "outputs": [
    {
     "data": {
      "text/plain": [
       "str"
      ]
     },
     "execution_count": 14,
     "metadata": {},
     "output_type": "execute_result"
    }
   ],
   "source": [
    "type(mytext)"
   ]
  },
  {
   "cell_type": "code",
   "execution_count": 16,
   "id": "1c1aef23-15b4-4350-8c6e-3c6d32b90f94",
   "metadata": {},
   "outputs": [],
   "source": [
    "myNumber = 390"
   ]
  },
  {
   "cell_type": "code",
   "execution_count": 18,
   "id": "77df214c-cb0a-4488-b9ec-02e5c7efd91d",
   "metadata": {},
   "outputs": [
    {
     "name": "stdout",
     "output_type": "stream",
     "text": [
      "390\n"
     ]
    }
   ],
   "source": [
    "print(myNumber)"
   ]
  },
  {
   "cell_type": "code",
   "execution_count": 20,
   "id": "887573b5-3101-455a-ab36-ce1b70b19eba",
   "metadata": {},
   "outputs": [
    {
     "data": {
      "text/plain": [
       "int"
      ]
     },
     "execution_count": 20,
     "metadata": {},
     "output_type": "execute_result"
    }
   ],
   "source": [
    "type(myNumber)"
   ]
  },
  {
   "cell_type": "code",
   "execution_count": 22,
   "id": "1393fe4b-2f92-46fc-b2cd-c083fe7b0dd3",
   "metadata": {},
   "outputs": [],
   "source": [
    "myFloat = 390.06"
   ]
  },
  {
   "cell_type": "code",
   "execution_count": 24,
   "id": "42b4ebc2-f95f-46d6-b1e8-68f121e16642",
   "metadata": {},
   "outputs": [
    {
     "name": "stdout",
     "output_type": "stream",
     "text": [
      "390.06\n"
     ]
    }
   ],
   "source": [
    "print(myFloat)"
   ]
  },
  {
   "cell_type": "code",
   "execution_count": 26,
   "id": "36cefe05-06be-4fa3-a9f8-a4d6117f2b70",
   "metadata": {},
   "outputs": [
    {
     "data": {
      "text/plain": [
       "float"
      ]
     },
     "execution_count": 26,
     "metadata": {},
     "output_type": "execute_result"
    }
   ],
   "source": [
    "type(myFloat)"
   ]
  },
  {
   "cell_type": "code",
   "execution_count": 40,
   "id": "b94336ab-6675-4689-ab40-a164aca430e0",
   "metadata": {},
   "outputs": [],
   "source": [
    "myComplexNumber = complex(35, 49)"
   ]
  },
  {
   "cell_type": "code",
   "execution_count": 42,
   "id": "e7e779a5-7a6e-45a8-924e-5f71d089f9ff",
   "metadata": {},
   "outputs": [
    {
     "data": {
      "text/plain": [
       "(35+49j)"
      ]
     },
     "execution_count": 42,
     "metadata": {},
     "output_type": "execute_result"
    }
   ],
   "source": [
    "myComplexNumber"
   ]
  },
  {
   "cell_type": "code",
   "execution_count": 44,
   "id": "5d32cd8d-d522-44c3-82aa-078858c64572",
   "metadata": {},
   "outputs": [
    {
     "data": {
      "text/plain": [
       "complex"
      ]
     },
     "execution_count": 44,
     "metadata": {},
     "output_type": "execute_result"
    }
   ],
   "source": [
    "type(myComplexNumber)"
   ]
  },
  {
   "cell_type": "code",
   "execution_count": 46,
   "id": "650e86ec-f476-49a5-92e7-f21c38a92b9f",
   "metadata": {},
   "outputs": [],
   "source": [
    "myList = [22, 14, 23, 34]"
   ]
  },
  {
   "cell_type": "code",
   "execution_count": 48,
   "id": "8220b83b-b50b-42be-be7f-61857c9de3f6",
   "metadata": {},
   "outputs": [
    {
     "data": {
      "text/plain": [
       "[22, 14, 23, 34]"
      ]
     },
     "execution_count": 48,
     "metadata": {},
     "output_type": "execute_result"
    }
   ],
   "source": [
    "myList"
   ]
  },
  {
   "cell_type": "code",
   "execution_count": 50,
   "id": "99e6e949-77f8-459c-9a90-7b8f2497c7d0",
   "metadata": {},
   "outputs": [
    {
     "data": {
      "text/plain": [
       "list"
      ]
     },
     "execution_count": 50,
     "metadata": {},
     "output_type": "execute_result"
    }
   ],
   "source": [
    "type(myList)"
   ]
  },
  {
   "cell_type": "code",
   "execution_count": 52,
   "id": "9a65b1e6-ef66-4738-8e4f-9a3439e60ee0",
   "metadata": {},
   "outputs": [],
   "source": [
    "myTuple = (22, 14, 23, 34)"
   ]
  },
  {
   "cell_type": "code",
   "execution_count": 54,
   "id": "edc99d34-d203-4d55-93f0-4abbde9b6f2d",
   "metadata": {},
   "outputs": [
    {
     "data": {
      "text/plain": [
       "(22, 14, 23, 34)"
      ]
     },
     "execution_count": 54,
     "metadata": {},
     "output_type": "execute_result"
    }
   ],
   "source": [
    "myTuple"
   ]
  },
  {
   "cell_type": "code",
   "execution_count": 56,
   "id": "7227f1f2-e4be-4429-b4cb-fe3b5628eb0e",
   "metadata": {},
   "outputs": [
    {
     "data": {
      "text/plain": [
       "tuple"
      ]
     },
     "execution_count": 56,
     "metadata": {},
     "output_type": "execute_result"
    }
   ],
   "source": [
    "type(myTuple)"
   ]
  },
  {
   "cell_type": "code",
   "execution_count": 62,
   "id": "bd2b4819-d2d9-417d-9e63-cc754e2647be",
   "metadata": {},
   "outputs": [],
   "source": [
    "myDictionary = {\"name\":33, \"place\":44, \"thing\":55}"
   ]
  },
  {
   "cell_type": "code",
   "execution_count": 64,
   "id": "5ec5d407-5bc5-4513-a364-d4e10373deef",
   "metadata": {},
   "outputs": [
    {
     "data": {
      "text/plain": [
       "{'name': 33, 'place': 44, 'thing': 55}"
      ]
     },
     "execution_count": 64,
     "metadata": {},
     "output_type": "execute_result"
    }
   ],
   "source": [
    "myDictionary"
   ]
  },
  {
   "cell_type": "code",
   "execution_count": 66,
   "id": "c40779ac-1ccb-4f87-b537-29e7e92c7846",
   "metadata": {},
   "outputs": [
    {
     "data": {
      "text/plain": [
       "dict"
      ]
     },
     "execution_count": 66,
     "metadata": {},
     "output_type": "execute_result"
    }
   ],
   "source": [
    "type(myDictionary)"
   ]
  },
  {
   "cell_type": "markdown",
   "id": "a22359f0-8bd8-4db5-bfef-3cb4030d0d2b",
   "metadata": {},
   "source": [
    "# Typecasting"
   ]
  },
  {
   "cell_type": "code",
   "execution_count": 69,
   "id": "b781977c-3d06-4ded-af07-da39506c7ea6",
   "metadata": {},
   "outputs": [],
   "source": [
    "value = \"200\""
   ]
  },
  {
   "cell_type": "code",
   "execution_count": 71,
   "id": "02944816-7153-4ded-aa73-1150631aa93c",
   "metadata": {},
   "outputs": [
    {
     "data": {
      "text/plain": [
       "'200'"
      ]
     },
     "execution_count": 71,
     "metadata": {},
     "output_type": "execute_result"
    }
   ],
   "source": [
    "value"
   ]
  },
  {
   "cell_type": "code",
   "execution_count": 73,
   "id": "3c63d7ff-b5ae-4c30-923e-d55d49b9d3eb",
   "metadata": {},
   "outputs": [
    {
     "data": {
      "text/plain": [
       "str"
      ]
     },
     "execution_count": 73,
     "metadata": {},
     "output_type": "execute_result"
    }
   ],
   "source": [
    "type(value)"
   ]
  },
  {
   "cell_type": "code",
   "execution_count": 75,
   "id": "af30749e-ac2c-4f01-a42c-f7886b2f82b3",
   "metadata": {},
   "outputs": [],
   "source": [
    "number = int(value)"
   ]
  },
  {
   "cell_type": "code",
   "execution_count": 77,
   "id": "4ea46053-e503-4b8e-a8cf-dbad54b7bb14",
   "metadata": {},
   "outputs": [
    {
     "data": {
      "text/plain": [
       "200"
      ]
     },
     "execution_count": 77,
     "metadata": {},
     "output_type": "execute_result"
    }
   ],
   "source": [
    "int(value)"
   ]
  },
  {
   "cell_type": "code",
   "execution_count": 85,
   "id": "1d6a957e-cb3c-4851-ab49-30d1b7f66159",
   "metadata": {},
   "outputs": [
    {
     "data": {
      "text/plain": [
       "int"
      ]
     },
     "execution_count": 85,
     "metadata": {},
     "output_type": "execute_result"
    }
   ],
   "source": [
    "type(number)"
   ]
  },
  {
   "cell_type": "code",
   "execution_count": 87,
   "id": "83e53029-868a-4fc2-bbff-0889c6b579e1",
   "metadata": {},
   "outputs": [],
   "source": [
    "number_float = float(value)"
   ]
  },
  {
   "cell_type": "code",
   "execution_count": 89,
   "id": "1c8024e6-54f9-4f71-b4aa-55ee67e5f0cc",
   "metadata": {},
   "outputs": [
    {
     "data": {
      "text/plain": [
       "200.0"
      ]
     },
     "execution_count": 89,
     "metadata": {},
     "output_type": "execute_result"
    }
   ],
   "source": [
    "number_float"
   ]
  },
  {
   "cell_type": "code",
   "execution_count": 93,
   "id": "0b12225e-f692-44e5-a52a-5c9072a7c69b",
   "metadata": {},
   "outputs": [
    {
     "data": {
      "text/plain": [
       "float"
      ]
     },
     "execution_count": 93,
     "metadata": {},
     "output_type": "execute_result"
    }
   ],
   "source": [
    "type (number_float)"
   ]
  },
  {
   "cell_type": "markdown",
   "id": "5b4f48b2-8f79-4660-a897-fb13658effd2",
   "metadata": {},
   "source": [
    "# Assignment Operators"
   ]
  },
  {
   "cell_type": "code",
   "execution_count": 124,
   "id": "e436e88f-b8fd-49e1-abff-dc84ddf4409a",
   "metadata": {},
   "outputs": [
    {
     "data": {
      "text/plain": [
       "20"
      ]
     },
     "execution_count": 124,
     "metadata": {},
     "output_type": "execute_result"
    }
   ],
   "source": [
    "A = 10\n",
    "A+= 10\n",
    "A"
   ]
  },
  {
   "cell_type": "code",
   "execution_count": 126,
   "id": "6769aff9-58b9-4d03-bcc2-fa80d0bab29a",
   "metadata": {},
   "outputs": [
    {
     "data": {
      "text/plain": [
       "15"
      ]
     },
     "execution_count": 126,
     "metadata": {},
     "output_type": "execute_result"
    }
   ],
   "source": [
    "A-=5\n",
    "A"
   ]
  },
  {
   "cell_type": "code",
   "execution_count": 128,
   "id": "c6598b10-57f6-4876-a6e2-adb1e17274bb",
   "metadata": {},
   "outputs": [
    {
     "data": {
      "text/plain": [
       "75"
      ]
     },
     "execution_count": 128,
     "metadata": {},
     "output_type": "execute_result"
    }
   ],
   "source": [
    "A*=5\n",
    "A"
   ]
  },
  {
   "cell_type": "code",
   "execution_count": 130,
   "id": "7f5ef2fb-229d-40ed-a5b9-96d9cf0fd634",
   "metadata": {},
   "outputs": [
    {
     "data": {
      "text/plain": [
       "15.0"
      ]
     },
     "execution_count": 130,
     "metadata": {},
     "output_type": "execute_result"
    }
   ],
   "source": [
    "A/=5\n",
    "A"
   ]
  },
  {
   "cell_type": "code",
   "execution_count": 132,
   "id": "11aac1ee-bd38-4ee7-a0e6-0a4109875386",
   "metadata": {},
   "outputs": [
    {
     "data": {
      "text/plain": [
       "5.0"
      ]
     },
     "execution_count": 132,
     "metadata": {},
     "output_type": "execute_result"
    }
   ],
   "source": [
    "A%=10\n",
    "A"
   ]
  },
  {
   "cell_type": "code",
   "execution_count": 150,
   "id": "8c3a030d-5a7d-41ad-b6d0-32c54b0be22e",
   "metadata": {},
   "outputs": [
    {
     "data": {
      "text/plain": [
       "4"
      ]
     },
     "execution_count": 150,
     "metadata": {},
     "output_type": "execute_result"
    }
   ],
   "source": [
    "B =2\n",
    "B**=2\n",
    "B"
   ]
  },
  {
   "cell_type": "code",
   "execution_count": 152,
   "id": "65a36d05-02c8-4fc5-bab5-83bdc3cabe0d",
   "metadata": {},
   "outputs": [
    {
     "data": {
      "text/plain": [
       "34.666666666666664"
      ]
     },
     "execution_count": 152,
     "metadata": {},
     "output_type": "execute_result"
    }
   ],
   "source": [
    "C = 104\n",
    "C/3"
   ]
  },
  {
   "cell_type": "code",
   "execution_count": 154,
   "id": "9597ca11-2f54-4a9e-99fe-e427ff458a80",
   "metadata": {},
   "outputs": [
    {
     "data": {
      "text/plain": [
       "34"
      ]
     },
     "execution_count": 154,
     "metadata": {},
     "output_type": "execute_result"
    }
   ],
   "source": [
    "C//=3\n",
    "C"
   ]
  },
  {
   "cell_type": "markdown",
   "id": "cce3c8c5-8e9d-49d0-871d-568ecb60f1ae",
   "metadata": {},
   "source": [
    "# Comparison Operators"
   ]
  },
  {
   "cell_type": "code",
   "execution_count": 2,
   "id": "3938c171-0dde-4e55-8b91-8fdca87e5d5e",
   "metadata": {},
   "outputs": [],
   "source": [
    "A = 25\n",
    "B = 25"
   ]
  },
  {
   "cell_type": "code",
   "execution_count": 4,
   "id": "516817b2-35a6-4f63-b87f-2d1cb71dc7a6",
   "metadata": {},
   "outputs": [
    {
     "data": {
      "text/plain": [
       "True"
      ]
     },
     "execution_count": 4,
     "metadata": {},
     "output_type": "execute_result"
    }
   ],
   "source": [
    "A == B"
   ]
  },
  {
   "cell_type": "code",
   "execution_count": 6,
   "id": "7b702b6d-020c-49ac-871e-c03282175fc9",
   "metadata": {},
   "outputs": [
    {
     "data": {
      "text/plain": [
       "False"
      ]
     },
     "execution_count": 6,
     "metadata": {},
     "output_type": "execute_result"
    }
   ],
   "source": [
    "A != B"
   ]
  },
  {
   "cell_type": "code",
   "execution_count": 12,
   "id": "efe91efc-3787-470b-ba2f-d1a4870e8c72",
   "metadata": {},
   "outputs": [],
   "source": [
    "C = 50"
   ]
  },
  {
   "cell_type": "code",
   "execution_count": 14,
   "id": "072073d9-e34e-422e-9c25-1ac0968b5954",
   "metadata": {},
   "outputs": [
    {
     "data": {
      "text/plain": [
       "True"
      ]
     },
     "execution_count": 14,
     "metadata": {},
     "output_type": "execute_result"
    }
   ],
   "source": [
    "C > B"
   ]
  },
  {
   "cell_type": "code",
   "execution_count": 16,
   "id": "5d0bdd68-946b-4ebc-8362-727dc3242032",
   "metadata": {},
   "outputs": [
    {
     "data": {
      "text/plain": [
       "False"
      ]
     },
     "execution_count": 16,
     "metadata": {},
     "output_type": "execute_result"
    }
   ],
   "source": [
    "C < B"
   ]
  },
  {
   "cell_type": "code",
   "execution_count": 18,
   "id": "fd20ed04-c7a7-418c-9fb5-85b15303eab4",
   "metadata": {},
   "outputs": [
    {
     "data": {
      "text/plain": [
       "True"
      ]
     },
     "execution_count": 18,
     "metadata": {},
     "output_type": "execute_result"
    }
   ],
   "source": [
    "C >= B"
   ]
  },
  {
   "cell_type": "code",
   "execution_count": 23,
   "id": "8b80ef78-30f6-4d42-9e01-3c0a871042d6",
   "metadata": {},
   "outputs": [
    {
     "data": {
      "text/plain": [
       "False"
      ]
     },
     "execution_count": 23,
     "metadata": {},
     "output_type": "execute_result"
    }
   ],
   "source": [
    "C <= B"
   ]
  },
  {
   "cell_type": "markdown",
   "id": "43e16a14-85f6-4945-b493-c717eb15709d",
   "metadata": {},
   "source": [
    "# User Input"
   ]
  },
  {
   "cell_type": "markdown",
   "id": "a126ed3c-6ff9-4f83-b101-0a763ec6b55e",
   "metadata": {},
   "source": [
    "# Input Function"
   ]
  },
  {
   "cell_type": "code",
   "execution_count": 29,
   "id": "488b7919-3cf1-4b40-971d-96a74db72965",
   "metadata": {},
   "outputs": [
    {
     "name": "stdin",
     "output_type": "stream",
     "text": [
      "Please enter your name: Shyam\n"
     ]
    },
    {
     "data": {
      "text/plain": [
       "'Shyam'"
      ]
     },
     "execution_count": 29,
     "metadata": {},
     "output_type": "execute_result"
    }
   ],
   "source": [
    "Name = input (\"Please enter your name:\")\n",
    "Name"
   ]
  },
  {
   "cell_type": "markdown",
   "id": "ca127c0c-d898-45a3-ab25-0fec4706d060",
   "metadata": {},
   "source": [
    "# WAP to add 2 user defined numbers"
   ]
  },
  {
   "cell_type": "code",
   "execution_count": 43,
   "id": "d1f1203e-9f35-4e91-8d06-9de6aa3499fb",
   "metadata": {},
   "outputs": [
    {
     "name": "stdin",
     "output_type": "stream",
     "text": [
      "Enter first number: 25\n"
     ]
    }
   ],
   "source": [
    "number1 = input (\"Enter first number:\")"
   ]
  },
  {
   "cell_type": "code",
   "execution_count": 45,
   "id": "a0b19adb-fb67-40da-a001-38f72387bc94",
   "metadata": {},
   "outputs": [
    {
     "name": "stdin",
     "output_type": "stream",
     "text": [
      "Enter second number: 30\n"
     ]
    }
   ],
   "source": [
    "number2 = input (\"Enter second number:\")"
   ]
  },
  {
   "cell_type": "code",
   "execution_count": 47,
   "id": "978c1f6f-7fd2-4673-8566-28830ea7d156",
   "metadata": {},
   "outputs": [],
   "source": [
    "number1 = int(number1)"
   ]
  },
  {
   "cell_type": "code",
   "execution_count": 49,
   "id": "cc9e1120-c9f8-4884-9d6a-0674f13de4cf",
   "metadata": {},
   "outputs": [],
   "source": [
    "number2 = int(number2)"
   ]
  },
  {
   "cell_type": "code",
   "execution_count": 51,
   "id": "74168571-8cea-401a-b1e6-0579d33657ff",
   "metadata": {},
   "outputs": [],
   "source": [
    "Sum = number1 + number2"
   ]
  },
  {
   "cell_type": "code",
   "execution_count": 53,
   "id": "dc91c49c-4790-42ca-8f12-4298074cc1b5",
   "metadata": {},
   "outputs": [
    {
     "data": {
      "text/plain": [
       "55"
      ]
     },
     "execution_count": 53,
     "metadata": {},
     "output_type": "execute_result"
    }
   ],
   "source": [
    "Sum"
   ]
  },
  {
   "cell_type": "code",
   "execution_count": 57,
   "id": "409848c0-cd89-4043-bb58-0b3308ac6644",
   "metadata": {},
   "outputs": [
    {
     "name": "stdin",
     "output_type": "stream",
     "text": [
      "Enter first number: 12\n"
     ]
    }
   ],
   "source": [
    " number1 = int(input (\"Enter first number:\"))"
   ]
  },
  {
   "cell_type": "code",
   "execution_count": 59,
   "id": "4f938071-8e26-461e-b378-f0bfbbdd8041",
   "metadata": {},
   "outputs": [
    {
     "name": "stdin",
     "output_type": "stream",
     "text": [
      "Enter second number: 15\n"
     ]
    }
   ],
   "source": [
    "number2 = int(input (\"Enter second number:\"))"
   ]
  },
  {
   "cell_type": "code",
   "execution_count": 61,
   "id": "1a001509-d8ab-4798-bfa5-dc5e7dbca2bc",
   "metadata": {},
   "outputs": [],
   "source": [
    "Sum = number1 + number2"
   ]
  },
  {
   "cell_type": "code",
   "execution_count": 65,
   "id": "f8347ae5-d49e-4090-a6e2-b9f45820afb0",
   "metadata": {},
   "outputs": [
    {
     "name": "stdout",
     "output_type": "stream",
     "text": [
      "Result: 27\n"
     ]
    }
   ],
   "source": [
    "print (\"Result:\", Sum)"
   ]
  },
  {
   "cell_type": "markdown",
   "id": "1443d502-6174-43f3-bfc0-cee2b014a014",
   "metadata": {},
   "source": [
    "# WAP to take input from user as First name and Last name and print the full name"
   ]
  },
  {
   "cell_type": "code",
   "execution_count": 68,
   "id": "d9e28e2f-c145-4588-a490-8b33c063766c",
   "metadata": {},
   "outputs": [
    {
     "name": "stdin",
     "output_type": "stream",
     "text": [
      "Enter First_Name: Shyam\n"
     ]
    }
   ],
   "source": [
    "First_Name = input (\"Enter First_Name:\")"
   ]
  },
  {
   "cell_type": "code",
   "execution_count": 72,
   "id": "af03886b-387e-49fa-a684-ca4eaafbc304",
   "metadata": {},
   "outputs": [
    {
     "name": "stdin",
     "output_type": "stream",
     "text": [
      "Enter Last_Name: Raman\n"
     ]
    }
   ],
   "source": [
    "Last_Name = input (\"Enter Last_Name:\")"
   ]
  },
  {
   "cell_type": "code",
   "execution_count": 76,
   "id": "6d302ce9-8854-471e-ba29-b7eb1bc1f0a7",
   "metadata": {},
   "outputs": [
    {
     "data": {
      "text/plain": [
       "'Shyam Raman'"
      ]
     },
     "execution_count": 76,
     "metadata": {},
     "output_type": "execute_result"
    }
   ],
   "source": [
    "Full_Name = First_Name +\" \"+Last_Name\n",
    "Full_Name"
   ]
  },
  {
   "cell_type": "markdown",
   "id": "34c179bb-95d4-4bb8-8f3f-0435e90edfe9",
   "metadata": {},
   "source": [
    "# WAP to take input from user as two numbers and print their product"
   ]
  },
  {
   "cell_type": "code",
   "execution_count": 81,
   "id": "12fb184a-3e0d-46a1-8039-5ddedb35dc8e",
   "metadata": {},
   "outputs": [
    {
     "name": "stdin",
     "output_type": "stream",
     "text": [
      "Enter first number: 10\n"
     ]
    }
   ],
   "source": [
    "number1 = int (input (\"Enter first number:\"))"
   ]
  },
  {
   "cell_type": "code",
   "execution_count": 83,
   "id": "c3f6825b-f7be-466a-a8bb-b8675c915070",
   "metadata": {},
   "outputs": [
    {
     "name": "stdin",
     "output_type": "stream",
     "text": [
      "Enter second number: 15\n"
     ]
    }
   ],
   "source": [
    "number2 = int(input(\"Enter second number:\"))"
   ]
  },
  {
   "cell_type": "code",
   "execution_count": 85,
   "id": "548fa3d4-b2c2-4896-b49a-986480a465fc",
   "metadata": {},
   "outputs": [],
   "source": [
    "Product = number1*number2"
   ]
  },
  {
   "cell_type": "code",
   "execution_count": 94,
   "id": "0dff0b14-49ce-4c37-b44a-1439f1b9029c",
   "metadata": {},
   "outputs": [
    {
     "name": "stdout",
     "output_type": "stream",
     "text": [
      "Result: 150\n"
     ]
    }
   ],
   "source": [
    "print (\"Result:\", Product)"
   ]
  },
  {
   "cell_type": "markdown",
   "id": "34480f99-75d9-42bb-a8ea-a4589b5b7f87",
   "metadata": {},
   "source": [
    "## Conditions"
   ]
  },
  {
   "cell_type": "markdown",
   "id": "82aefde5-8864-4b3c-a99d-702db2fb5d22",
   "metadata": {},
   "source": [
    "- IF\n",
    "- ELIF\n",
    "- ElSE"
   ]
  },
  {
   "cell_type": "code",
   "execution_count": 98,
   "id": "d09998d2-5be0-4c74-a9ae-c9e268526d3f",
   "metadata": {},
   "outputs": [
    {
     "name": "stdin",
     "output_type": "stream",
     "text": [
      "enter a number: 20\n"
     ]
    }
   ],
   "source": [
    "number = int(input(\"enter a number:\"))"
   ]
  },
  {
   "cell_type": "code",
   "execution_count": 100,
   "id": "0fde7984-1922-4a43-9f77-850a3b11403b",
   "metadata": {},
   "outputs": [
    {
     "name": "stdout",
     "output_type": "stream",
     "text": [
      "number is greater than 10\n"
     ]
    }
   ],
   "source": [
    "if number <10 :\n",
    "    print (\"number is less than 10\")\n",
    "\n",
    "elif number >10 :\n",
    "    print (\"number is greater than 10\")\n",
    "\n",
    "else :\n",
    "    print (\"number is 10\")"
   ]
  },
  {
   "cell_type": "markdown",
   "id": "5489a7f6-d38b-49b8-b04c-4fbdeb2a2716",
   "metadata": {},
   "source": [
    "## Nested If-Statements"
   ]
  },
  {
   "cell_type": "markdown",
   "id": "d3f5a2a6-eb9a-4e2c-8f42-cb922ca55f9e",
   "metadata": {},
   "source": [
    "-Program to check odd, even, or zero"
   ]
  },
  {
   "cell_type": "code",
   "execution_count": 119,
   "id": "d22f4565-3c0e-4ec3-9a6e-d1642e264157",
   "metadata": {},
   "outputs": [
    {
     "name": "stdin",
     "output_type": "stream",
     "text": [
      "Enter an Integer: 25\n"
     ]
    }
   ],
   "source": [
    "number = int (input (\"Enter an Integer:\"))"
   ]
  },
  {
   "cell_type": "code",
   "execution_count": 148,
   "id": "cfbb69c0-ee72-4221-b9a1-d10dd722e443",
   "metadata": {},
   "outputs": [
    {
     "name": "stdout",
     "output_type": "stream",
     "text": [
      "Number is odd\n"
     ]
    }
   ],
   "source": [
    "if number % 2 == 0 :\n",
    "    if number == 0 :\n",
    "        print (\"Number is even but zero\")\n",
    "    else :\n",
    "        print (\"Number is even\")        \n",
    "else :\n",
    "    print (\"Number is odd\")"
   ]
  },
  {
   "cell_type": "markdown",
   "id": "43c1fda9-bac5-4b87-a8cb-6503964f192a",
   "metadata": {},
   "source": [
    "## LOOPS"
   ]
  },
  {
   "cell_type": "markdown",
   "id": "aafdeab8-51ef-41a3-b2f6-ec006cae30da",
   "metadata": {},
   "source": [
    "- A loop is a programming structure that executes the same code over and over again, as long as a certain condition is not met"
   ]
  },
  {
   "cell_type": "markdown",
   "id": "9ce8a2c5-484c-4776-9099-a994b23cc06c",
   "metadata": {},
   "source": [
    "# WHILE LOOP"
   ]
  },
  {
   "cell_type": "markdown",
   "id": "df84696b-ee38-4336-b50c-f28c9c705328",
   "metadata": {},
   "source": [
    "- A while loop executes the code in its block while a condition is met"
   ]
  },
  {
   "cell_type": "code",
   "execution_count": null,
   "id": "0b0cd58c-26c7-455c-bb43-c6a63b36adb6",
   "metadata": {},
   "outputs": [],
   "source": []
  }
 ],
 "metadata": {
  "kernelspec": {
   "display_name": "Python 3 (ipykernel)",
   "language": "python",
   "name": "python3"
  },
  "language_info": {
   "codemirror_mode": {
    "name": "ipython",
    "version": 3
   },
   "file_extension": ".py",
   "mimetype": "text/x-python",
   "name": "python",
   "nbconvert_exporter": "python",
   "pygments_lexer": "ipython3",
   "version": "3.12.4"
  }
 },
 "nbformat": 4,
 "nbformat_minor": 5
}
