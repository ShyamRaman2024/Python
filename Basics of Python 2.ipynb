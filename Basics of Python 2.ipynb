{
 "cells": [
  {
   "cell_type": "markdown",
   "id": "6597b521-05f3-46f2-83f1-9fa77efd8ef4",
   "metadata": {},
   "source": [
    "# LOOPS"
   ]
  },
  {
   "cell_type": "markdown",
   "id": "bb1a3704-ce09-44c3-93ef-96fe58cf4a31",
   "metadata": {},
   "source": [
    "- A loop is a programming structure that executes the same code over and over again, as long as certain condition is met."
   ]
  },
  {
   "cell_type": "markdown",
   "id": "c5574807-28e5-40b8-8547-c6fa7db12682",
   "metadata": {},
   "source": [
    "# WHILE LOOP"
   ]
  },
  {
   "cell_type": "markdown",
   "id": "2d7fcb89-e9d1-4e68-ac8f-35103a728cf4",
   "metadata": {},
   "source": [
    "- A while loop executes the code in its block while a condition is met."
   ]
  },
  {
   "cell_type": "code",
   "execution_count": 17,
   "id": "87db01a1-6a13-477e-a32b-608fc2709e71",
   "metadata": {},
   "outputs": [
    {
     "name": "stdout",
     "output_type": "stream",
     "text": [
      "2\n",
      "3\n",
      "4\n",
      "5\n",
      "6\n",
      "7\n",
      "8\n",
      "9\n",
      "10\n"
     ]
    }
   ],
   "source": [
    "number = 1\n",
    "while number < 10 :\n",
    "    number += 1\n",
    "    print (number)"
   ]
  },
  {
   "cell_type": "markdown",
   "id": "c6f8b506-be47-4245-890c-194c77230796",
   "metadata": {},
   "source": [
    "# FOR LOOP\n",
    "- The For Loop works differently. Here we do not have a condition. This loop type is used to iterate over sequences."
   ]
  },
  {
   "cell_type": "code",
   "execution_count": 22,
   "id": "cc3fbac3-c11b-43ef-b5e8-611da2bcc6ea",
   "metadata": {},
   "outputs": [
    {
     "name": "stdout",
     "output_type": "stream",
     "text": [
      "10\n",
      "20\n",
      "30\n",
      "40\n"
     ]
    }
   ],
   "source": [
    "numbers =  [ 10, 20, 30, 40 ]\n",
    "for number in numbers :\n",
    "    print (number)"
   ]
  },
  {
   "cell_type": "code",
   "execution_count": 24,
   "id": "48ca25fe-02fd-48c7-ad13-aa7fe33b939f",
   "metadata": {},
   "outputs": [
    {
     "name": "stdout",
     "output_type": "stream",
     "text": [
      "10\n",
      "20\n",
      "30\n",
      "40\n"
     ]
    }
   ],
   "source": [
    "numbers = [ 10, 20, 30, 40 ]\n",
    "for x in numbers :\n",
    "    print (x)"
   ]
  },
  {
   "cell_type": "code",
   "execution_count": 26,
   "id": "e3de7b7c-f459-46a2-a183-8de368f39073",
   "metadata": {},
   "outputs": [
    {
     "name": "stdout",
     "output_type": "stream",
     "text": [
      "Sam\n",
      "Pam\n",
      "Lam\n",
      "Tam\n"
     ]
    }
   ],
   "source": [
    "trainers = [\"Sam\", \"Pam\", \"Lam\", \"Tam\"]\n",
    "for trainer in trainers :\n",
    "    print (trainer)"
   ]
  },
  {
   "cell_type": "markdown",
   "id": "6503feeb-1fe5-4c34-a35c-018657c2212d",
   "metadata": {
    "jp-MarkdownHeadingCollapsed": true
   },
   "source": [
    "# RANGE FUNCTION\n",
    "- With the Range function, we can create lists that contain all numbers in between two numbers.\n",
    "- There are 3 arguments in Range function, START, STOP, and STEP."
   ]
  },
  {
   "cell_type": "code",
   "execution_count": 31,
   "id": "f743b582-06bb-4f26-9aeb-822f708d059f",
   "metadata": {},
   "outputs": [
    {
     "name": "stdout",
     "output_type": "stream",
     "text": [
      "0\n",
      "1\n",
      "2\n",
      "3\n",
      "4\n"
     ]
    }
   ],
   "source": [
    "for x in range ( 5 ):\n",
    "    print (x)"
   ]
  },
  {
   "cell_type": "code",
   "execution_count": 33,
   "id": "10a60fd0-60a4-46d2-9382-deb2983fd7f5",
   "metadata": {},
   "outputs": [
    {
     "name": "stdout",
     "output_type": "stream",
     "text": [
      "10\n",
      "11\n",
      "12\n",
      "13\n",
      "14\n",
      "15\n",
      "16\n",
      "17\n",
      "18\n",
      "19\n",
      "20\n",
      "21\n",
      "22\n",
      "23\n",
      "24\n",
      "25\n",
      "26\n",
      "27\n",
      "28\n",
      "29\n"
     ]
    }
   ],
   "source": [
    "for x in range (10, 30):\n",
    "    print (x)"
   ]
  },
  {
   "cell_type": "code",
   "execution_count": 39,
   "id": "fed97b71-8aa3-478e-84b7-26c883216e41",
   "metadata": {},
   "outputs": [
    {
     "name": "stdout",
     "output_type": "stream",
     "text": [
      "10\n",
      "12\n",
      "14\n",
      "16\n",
      "18\n",
      "20\n",
      "22\n",
      "24\n",
      "26\n",
      "28\n"
     ]
    }
   ],
   "source": [
    "for x in range (10, 30, 2):\n",
    "    print (x)"
   ]
  },
  {
   "cell_type": "code",
   "execution_count": 43,
   "id": "1f7ca11f-37b6-4be0-9391-93ea86d21b01",
   "metadata": {},
   "outputs": [
    {
     "name": "stdout",
     "output_type": "stream",
     "text": [
      "1\n",
      "3\n",
      "5\n",
      "7\n",
      "9\n",
      "11\n",
      "13\n",
      "15\n",
      "17\n",
      "19\n",
      "21\n",
      "23\n",
      "25\n",
      "27\n",
      "29\n"
     ]
    }
   ],
   "source": [
    "for x in range (1, 30, 2):\n",
    "    print (x)"
   ]
  },
  {
   "cell_type": "markdown",
   "id": "d0d0b1f8-9d2f-48d6-b584-63d4eaf18f94",
   "metadata": {
    "jp-MarkdownHeadingCollapsed": true
   },
   "source": [
    "# LOOP CONTROL STATEMENTS\n",
    "- In order to manage loops, we have so-called loop control statements. They allow us to manipulate the process flow of the loop at a specific point."
   ]
  },
  {
   "cell_type": "markdown",
   "id": "cb904e7e-3ec9-4a15-a2c8-eceefe24c955",
   "metadata": {},
   "source": [
    "# BREAK STATEMENT\n",
    "- With the break statement, we can end a loop immediately, without caring about the condition."
   ]
  },
  {
   "cell_type": "code",
   "execution_count": 49,
   "id": "b9eca3c8-771d-425f-9438-61c02c1219ed",
   "metadata": {},
   "outputs": [
    {
     "name": "stdout",
     "output_type": "stream",
     "text": [
      "1\n",
      "2\n",
      "3\n",
      "4\n",
      "5\n",
      "6\n",
      "7\n"
     ]
    }
   ],
   "source": [
    "number = 0\n",
    "while number < 10 :\n",
    "    number += 1\n",
    "    if number == 8 :\n",
    "        break\n",
    "    print (number)"
   ]
  },
  {
   "cell_type": "markdown",
   "id": "af88e57b-20ec-4b28-8374-05ba5e50a130",
   "metadata": {},
   "source": [
    "# CONTINUE STATEMENT\n",
    "- If we don't want to break the full loop, but to skip only one iteration, we can use the continue statement"
   ]
  },
  {
   "cell_type": "code",
   "execution_count": 52,
   "id": "ebfa4e66-a909-4440-a690-7e07e73629fa",
   "metadata": {},
   "outputs": [
    {
     "name": "stdout",
     "output_type": "stream",
     "text": [
      "1\n",
      "2\n",
      "3\n",
      "5\n",
      "6\n",
      "7\n",
      "8\n",
      "9\n",
      "10\n"
     ]
    }
   ],
   "source": [
    "number = 0\n",
    "while number < 10 :\n",
    "    number += 1\n",
    "    if number == 4 :\n",
    "        continue\n",
    "    print (number)"
   ]
  },
  {
   "cell_type": "code",
   "execution_count": 54,
   "id": "0cc1d358-19d7-4c09-a934-fdd8f07040e6",
   "metadata": {},
   "outputs": [],
   "source": [
    "# Comments: Here number 4 is skipped, but the numbers after 4 is continued up until number 10."
   ]
  },
  {
   "cell_type": "markdown",
   "id": "2b9e2f2b-a48d-436b-8bf8-439f8044b531",
   "metadata": {},
   "source": [
    "# PASS STATEMENT\n",
    "- The pass statement is a very special statement, since it does absolutely nothing. Actually, it is not really a loop control statement, but a placeholder a code.\n",
    "- Sometimes you want to write your basic code structure, without implementing the logic yet. In this case, we can use the pass statement in order to fill the code blocks. Otherwise, we can't run the script."
   ]
  },
  {
   "cell_type": "code",
   "execution_count": 57,
   "id": "09f6d8fa-2816-4f46-91e2-5afed232da8d",
   "metadata": {},
   "outputs": [],
   "source": [
    "if number == 10 :\n",
    "    pass\n",
    "else :\n",
    "    pass\n",
    "while number < 10 :\n",
    "    pass"
   ]
  },
  {
   "cell_type": "markdown",
   "id": "b3437cfe-2763-4f51-b372-4811f64dbaaa",
   "metadata": {
    "jp-MarkdownHeadingCollapsed": true
   },
   "source": [
    "# SEQUENCES\n",
    "- The sequence is the most basic data structure in Python. It contains multiple elements and they are indexed with a specific number such as LIST, TUPLE, DICTIONARY"
   ]
  },
  {
   "cell_type": "markdown",
   "id": "13a53ca2-1360-40cd-a7dd-5c7bd4ac7559",
   "metadata": {},
   "source": [
    "# LISTS\n",
    "- The elements of a list can have any data type and we can also mix them."
   ]
  },
  {
   "cell_type": "code",
   "execution_count": 61,
   "id": "6b9e185f-e237-4bc0-9ec3-e88570262eeb",
   "metadata": {},
   "outputs": [],
   "source": [
    "number = [ 10, 22, 5, 2, 30 ]\n",
    "names = [ \"Int\", \"Str\", \"Float\", \"Boolean\" ]\n",
    "mixed = [ \"Data\", 82, 6.7, \"False\"]"
   ]
  },
  {
   "cell_type": "markdown",
   "id": "897f78f5-24ca-4f8e-adbd-8167bbaa37f9",
   "metadata": {},
   "source": [
    "# ACCESSING VALUES"
   ]
  },
  {
   "cell_type": "code",
   "execution_count": 72,
   "id": "6e4dab59-a7d5-4980-994d-e1fc85977ca0",
   "metadata": {},
   "outputs": [
    {
     "data": {
      "text/plain": [
       "[10, 22, 5, 2, 30]"
      ]
     },
     "execution_count": 72,
     "metadata": {},
     "output_type": "execute_result"
    }
   ],
   "source": [
    "number"
   ]
  },
  {
   "cell_type": "code",
   "execution_count": 74,
   "id": "1b2c3355-2be6-40c4-b261-4645bafc3a21",
   "metadata": {},
   "outputs": [
    {
     "data": {
      "text/plain": [
       "10"
      ]
     },
     "execution_count": 74,
     "metadata": {},
     "output_type": "execute_result"
    }
   ],
   "source": [
    "number [0]"
   ]
  },
  {
   "cell_type": "code",
   "execution_count": 76,
   "id": "687720aa-b755-4a6d-b85f-4beeb0dbbe63",
   "metadata": {},
   "outputs": [
    {
     "data": {
      "text/plain": [
       "5"
      ]
     },
     "execution_count": 76,
     "metadata": {},
     "output_type": "execute_result"
    }
   ],
   "source": [
    "number [2]"
   ]
  },
  {
   "cell_type": "code",
   "execution_count": 86,
   "id": "58c47f4a-6b9d-45d6-82af-bd15ce05c239",
   "metadata": {},
   "outputs": [
    {
     "data": {
      "text/plain": [
       "30"
      ]
     },
     "execution_count": 86,
     "metadata": {},
     "output_type": "execute_result"
    }
   ],
   "source": [
    "number [4]"
   ]
  },
  {
   "cell_type": "code",
   "execution_count": 88,
   "id": "162069db-1ace-49a9-ae7f-f296e90a9100",
   "metadata": {},
   "outputs": [
    {
     "data": {
      "text/plain": [
       "5"
      ]
     },
     "execution_count": 88,
     "metadata": {},
     "output_type": "execute_result"
    }
   ],
   "source": [
    "len (number)"
   ]
  },
  {
   "cell_type": "code",
   "execution_count": 90,
   "id": "597d2a88-84e9-444d-8a44-3561ab1892aa",
   "metadata": {},
   "outputs": [
    {
     "data": {
      "text/plain": [
       "['Data', 82, 6.7, 'False']"
      ]
     },
     "execution_count": 90,
     "metadata": {},
     "output_type": "execute_result"
    }
   ],
   "source": [
    "mixed"
   ]
  },
  {
   "cell_type": "code",
   "execution_count": 98,
   "id": "b551cdbf-cda3-4b24-9d51-75472a2a9885",
   "metadata": {},
   "outputs": [
    {
     "name": "stdout",
     "output_type": "stream",
     "text": [
      "False\n"
     ]
    }
   ],
   "source": [
    "print (mixed [3])"
   ]
  },
  {
   "cell_type": "code",
   "execution_count": 100,
   "id": "9b282e7e-9606-4687-8fa4-c7b596887c59",
   "metadata": {},
   "outputs": [
    {
     "name": "stdout",
     "output_type": "stream",
     "text": [
      "Float\n"
     ]
    }
   ],
   "source": [
    "print (names [2])"
   ]
  },
  {
   "cell_type": "code",
   "execution_count": 102,
   "id": "85bb36db-aa72-4f75-aefa-f5d6ff857b76",
   "metadata": {},
   "outputs": [
    {
     "data": {
      "text/plain": [
       "4"
      ]
     },
     "execution_count": 102,
     "metadata": {},
     "output_type": "execute_result"
    }
   ],
   "source": [
    "len (names)"
   ]
  },
  {
   "cell_type": "markdown",
   "id": "810edb01-8dbe-4303-86b1-d70fa4b02fed",
   "metadata": {},
   "source": [
    "# SLICING\n",
    "- But instead of only accessing, one single element, we can also define a range that we want to access. This is called slicing."
   ]
  },
  {
   "cell_type": "code",
   "execution_count": 26,
   "id": "af80f3ad-4ddd-43d5-b603-d95abeac7e7b",
   "metadata": {},
   "outputs": [
    {
     "data": {
      "text/plain": [
       "[10, 22, 5, 2, 30]"
      ]
     },
     "execution_count": 26,
     "metadata": {},
     "output_type": "execute_result"
    }
   ],
   "source": [
    "numbers = [10, 22, 5, 2, 30]\n",
    "numbers"
   ]
  },
  {
   "cell_type": "code",
   "execution_count": 28,
   "id": "77f9de2c-969a-4f4b-93bf-d6332e09bcda",
   "metadata": {},
   "outputs": [
    {
     "data": {
      "text/plain": [
       "[10, 22]"
      ]
     },
     "execution_count": 28,
     "metadata": {},
     "output_type": "execute_result"
    }
   ],
   "source": [
    "numbers [0:2]"
   ]
  },
  {
   "cell_type": "code",
   "execution_count": 30,
   "id": "fed9b31f-7c7e-451d-80de-bca16defe5aa",
   "metadata": {},
   "outputs": [
    {
     "data": {
      "text/plain": [
       "[22, 5, 2, 30]"
      ]
     },
     "execution_count": 30,
     "metadata": {},
     "output_type": "execute_result"
    }
   ],
   "source": [
    "numbers [1:]"
   ]
  },
  {
   "cell_type": "code",
   "execution_count": 32,
   "id": "f3fb7519-8357-4f8c-a455-724943390f6c",
   "metadata": {},
   "outputs": [
    {
     "data": {
      "text/plain": [
       "[10, 22, 5]"
      ]
     },
     "execution_count": 32,
     "metadata": {},
     "output_type": "execute_result"
    }
   ],
   "source": [
    "numbers [:3]"
   ]
  },
  {
   "cell_type": "code",
   "execution_count": 34,
   "id": "dd60e9d7-d740-4e16-86d6-306c12aa3fca",
   "metadata": {},
   "outputs": [
    {
     "data": {
      "text/plain": [
       "[30, 2, 5, 22, 10]"
      ]
     },
     "execution_count": 34,
     "metadata": {},
     "output_type": "execute_result"
    }
   ],
   "source": [
    "numbers [::-1]"
   ]
  },
  {
   "cell_type": "code",
   "execution_count": 36,
   "id": "29ccdef1-474f-4b72-acb9-34093aabffe0",
   "metadata": {},
   "outputs": [
    {
     "data": {
      "text/plain": [
       "[10, 22, 5, 2]"
      ]
     },
     "execution_count": 36,
     "metadata": {},
     "output_type": "execute_result"
    }
   ],
   "source": [
    "numbers [0:-1]"
   ]
  },
  {
   "cell_type": "code",
   "execution_count": 38,
   "id": "daca4eea-fd5c-4e7e-a02b-70b5f0124c01",
   "metadata": {},
   "outputs": [
    {
     "data": {
      "text/plain": [
       "[10, 22]"
      ]
     },
     "execution_count": 38,
     "metadata": {},
     "output_type": "execute_result"
    }
   ],
   "source": [
    "numbers [:2]"
   ]
  },
  {
   "cell_type": "markdown",
   "id": "17930826-7c9b-4c7d-8e45-1745d1162579",
   "metadata": {},
   "source": [
    "# MODIFYING ELEMENTS"
   ]
  },
  {
   "cell_type": "code",
   "execution_count": 6,
   "id": "8a04c654-b53f-4a4c-b24b-f6fad8e904e1",
   "metadata": {},
   "outputs": [
    {
     "data": {
      "text/plain": [
       "[10, 22, 5, 2, 30]"
      ]
     },
     "execution_count": 6,
     "metadata": {},
     "output_type": "execute_result"
    }
   ],
   "source": [
    "numbers = [10, 22, 5, 2, 30]\n",
    "numbers"
   ]
  },
  {
   "cell_type": "code",
   "execution_count": 8,
   "id": "49bfa50d-1cc7-46f1-8096-df5bdf9d351c",
   "metadata": {},
   "outputs": [
    {
     "data": {
      "text/plain": [
       "5"
      ]
     },
     "execution_count": 8,
     "metadata": {},
     "output_type": "execute_result"
    }
   ],
   "source": [
    "numbers [2]"
   ]
  },
  {
   "cell_type": "code",
   "execution_count": 16,
   "id": "f2d51884-e9e6-4cf8-a31d-6a0ac684f496",
   "metadata": {},
   "outputs": [
    {
     "data": {
      "text/plain": [
       "[10, 22, 32, 2, 30]"
      ]
     },
     "execution_count": 16,
     "metadata": {},
     "output_type": "execute_result"
    }
   ],
   "source": [
    "numbers [2] = 32\n",
    "numbers"
   ]
  },
  {
   "cell_type": "code",
   "execution_count": 18,
   "id": "6829285b-8dfe-4a47-8e45-b6647ce0c524",
   "metadata": {},
   "outputs": [
    {
     "data": {
      "text/plain": [
       "['Int', 'Str', 'Float', 'Boolean']"
      ]
     },
     "execution_count": 18,
     "metadata": {},
     "output_type": "execute_result"
    }
   ],
   "source": [
    "names = [ \"Int\", \"Str\", \"Float\", \"Boolean\" ]\n",
    "names"
   ]
  },
  {
   "cell_type": "code",
   "execution_count": 20,
   "id": "f92103f2-be4a-4842-b1a1-ac3bd94384e4",
   "metadata": {},
   "outputs": [
    {
     "data": {
      "text/plain": [
       "'Boolean'"
      ]
     },
     "execution_count": 20,
     "metadata": {},
     "output_type": "execute_result"
    }
   ],
   "source": [
    "names [3]"
   ]
  },
  {
   "cell_type": "code",
   "execution_count": 22,
   "id": "9faad42b-4d5a-4ca2-8116-9b136c01f405",
   "metadata": {},
   "outputs": [
    {
     "data": {
      "text/plain": [
       "['Int', 'Str', 'Float', 'Modify']"
      ]
     },
     "execution_count": 22,
     "metadata": {},
     "output_type": "execute_result"
    }
   ],
   "source": [
    "names [3] = \"Modify\"\n",
    "names"
   ]
  },
  {
   "cell_type": "code",
   "execution_count": 24,
   "id": "8af0f574-ab12-417e-9cab-d51af4260177",
   "metadata": {},
   "outputs": [
    {
     "data": {
      "text/plain": [
       "'Float'"
      ]
     },
     "execution_count": 24,
     "metadata": {},
     "output_type": "execute_result"
    }
   ],
   "source": [
    "names [2]"
   ]
  },
  {
   "cell_type": "code",
   "execution_count": 26,
   "id": "73e39b9f-932f-4a26-b650-5b4f82ce80b4",
   "metadata": {},
   "outputs": [],
   "source": [
    "names [2] = \"fly\""
   ]
  },
  {
   "cell_type": "code",
   "execution_count": 28,
   "id": "f8d1b80a-6a55-4983-bb27-2bb84f70eb5e",
   "metadata": {},
   "outputs": [
    {
     "data": {
      "text/plain": [
       "['Int', 'Str', 'fly', 'Modify']"
      ]
     },
     "execution_count": 28,
     "metadata": {},
     "output_type": "execute_result"
    }
   ],
   "source": [
    "names"
   ]
  },
  {
   "cell_type": "code",
   "execution_count": 30,
   "id": "89e4a01d-e668-4aba-8d34-8550c27d4a7b",
   "metadata": {},
   "outputs": [
    {
     "data": {
      "text/plain": [
       "['Walk', 'Str', 'fly', 'Modify']"
      ]
     },
     "execution_count": 30,
     "metadata": {},
     "output_type": "execute_result"
    }
   ],
   "source": [
    "names [0] = \"Walk\"\n",
    "names"
   ]
  },
  {
   "cell_type": "markdown",
   "id": "dfcd0d93-cebf-4c22-90bf-1b4dad678969",
   "metadata": {},
   "source": [
    "# LIST OPERATIONS"
   ]
  },
  {
   "cell_type": "markdown",
   "id": "dd9aadab-e6d8-4bed-9e22-26c50521334a",
   "metadata": {
    "jp-MarkdownHeadingCollapsed": true
   },
   "source": [
    "## LIST ADDITION AND LIST MULTIPLICATION"
   ]
  },
  {
   "cell_type": "code",
   "execution_count": 34,
   "id": "f2a9f391-830a-4558-b4d9-864d0ed60e30",
   "metadata": {},
   "outputs": [],
   "source": [
    "List_A = [100, 110, 120, 130]"
   ]
  },
  {
   "cell_type": "code",
   "execution_count": 36,
   "id": "89335444-07b4-451e-aa49-787726956307",
   "metadata": {},
   "outputs": [],
   "source": [
    "List_B = [200, 210, 220, 230]"
   ]
  },
  {
   "cell_type": "code",
   "execution_count": 38,
   "id": "a5d9905e-4e25-4dfa-a40b-da64a46ac703",
   "metadata": {},
   "outputs": [
    {
     "data": {
      "text/plain": [
       "[100, 110, 120, 130, 200, 210, 220, 230]"
      ]
     },
     "execution_count": 38,
     "metadata": {},
     "output_type": "execute_result"
    }
   ],
   "source": [
    "List_A + List_B"
   ]
  },
  {
   "cell_type": "code",
   "execution_count": 40,
   "id": "c46870e1-5ac2-4e99-b1d6-8c6a140c5781",
   "metadata": {},
   "outputs": [
    {
     "data": {
      "text/plain": [
       "[100, 110, 120, 130, 100, 110, 120, 130, 100, 110, 120, 130]"
      ]
     },
     "execution_count": 40,
     "metadata": {},
     "output_type": "execute_result"
    }
   ],
   "source": [
    "List_A * 3"
   ]
  },
  {
   "cell_type": "code",
   "execution_count": 42,
   "id": "c0b99aef-d788-41c5-bb66-fd12e6497d89",
   "metadata": {},
   "outputs": [
    {
     "data": {
      "text/plain": [
       "[200, 210, 220, 230, 200, 210, 220, 230]"
      ]
     },
     "execution_count": 42,
     "metadata": {},
     "output_type": "execute_result"
    }
   ],
   "source": [
    "List_B * 2"
   ]
  },
  {
   "cell_type": "markdown",
   "id": "66bcbb81-e8d4-4c99-ae40-3deb7c28d7d4",
   "metadata": {},
   "source": [
    "# LIST FUNCTIONS"
   ]
  },
  {
   "cell_type": "code",
   "execution_count": 45,
   "id": "0114a967-65e9-4603-a195-253b58d45761",
   "metadata": {},
   "outputs": [
    {
     "data": {
      "text/plain": [
       "[100, 110, 120, 130]"
      ]
     },
     "execution_count": 45,
     "metadata": {},
     "output_type": "execute_result"
    }
   ],
   "source": [
    "List_A"
   ]
  },
  {
   "cell_type": "code",
   "execution_count": 47,
   "id": "95fb71e6-7061-4e11-b2d2-198581c4831f",
   "metadata": {},
   "outputs": [
    {
     "data": {
      "text/plain": [
       "4"
      ]
     },
     "execution_count": 47,
     "metadata": {},
     "output_type": "execute_result"
    }
   ],
   "source": [
    "len (List_A)"
   ]
  },
  {
   "cell_type": "code",
   "execution_count": 49,
   "id": "745f92bd-db47-4c31-81ea-f7d69ff398c2",
   "metadata": {},
   "outputs": [
    {
     "data": {
      "text/plain": [
       "130"
      ]
     },
     "execution_count": 49,
     "metadata": {},
     "output_type": "execute_result"
    }
   ],
   "source": [
    "max (List_A)"
   ]
  },
  {
   "cell_type": "code",
   "execution_count": 51,
   "id": "95b0c4da-c693-496f-913a-1457cfd6e154",
   "metadata": {},
   "outputs": [
    {
     "data": {
      "text/plain": [
       "100"
      ]
     },
     "execution_count": 51,
     "metadata": {},
     "output_type": "execute_result"
    }
   ],
   "source": [
    "min (List_A)"
   ]
  },
  {
   "cell_type": "code",
   "execution_count": 57,
   "id": "1cf58030-2078-448c-8fc8-2a66a1e3a553",
   "metadata": {},
   "outputs": [
    {
     "data": {
      "text/plain": [
       "[100, 110, 120, 130, 5, 5, 4]"
      ]
     },
     "execution_count": 57,
     "metadata": {},
     "output_type": "execute_result"
    }
   ],
   "source": [
    "List_A.append(4)\n",
    "List_A"
   ]
  },
  {
   "cell_type": "code",
   "execution_count": 59,
   "id": "5ac51f93-acb3-4faf-82cb-66412ff0967a",
   "metadata": {},
   "outputs": [
    {
     "data": {
      "text/plain": [
       "2"
      ]
     },
     "execution_count": 59,
     "metadata": {},
     "output_type": "execute_result"
    }
   ],
   "source": [
    "List_A.count (5)"
   ]
  },
  {
   "cell_type": "code",
   "execution_count": 63,
   "id": "f8337245-0f72-44b4-acc5-69d6d6c43438",
   "metadata": {},
   "outputs": [
    {
     "data": {
      "text/plain": [
       "[100, 110, 120, 130, 5]"
      ]
     },
     "execution_count": 63,
     "metadata": {},
     "output_type": "execute_result"
    }
   ],
   "source": [
    "List_A.pop (5)\n",
    "List_A"
   ]
  },
  {
   "cell_type": "code",
   "execution_count": 65,
   "id": "646cbcc1-9065-40a1-b746-7ae30d6b3975",
   "metadata": {},
   "outputs": [
    {
     "data": {
      "text/plain": [
       "2"
      ]
     },
     "execution_count": 65,
     "metadata": {},
     "output_type": "execute_result"
    }
   ],
   "source": [
    "List_A.index (120)"
   ]
  },
  {
   "cell_type": "code",
   "execution_count": 77,
   "id": "a7700fbb-abee-4796-85a1-46f9f6a68231",
   "metadata": {},
   "outputs": [
    {
     "data": {
      "text/plain": [
       "[100, 110, 120, 130, 5]"
      ]
     },
     "execution_count": 77,
     "metadata": {},
     "output_type": "execute_result"
    }
   ],
   "source": [
    "List_A"
   ]
  },
  {
   "cell_type": "code",
   "execution_count": 83,
   "id": "cb636cee-987d-44f8-ad63-de837e239a13",
   "metadata": {},
   "outputs": [
    {
     "data": {
      "text/plain": [
       "[5, 130, 120, 110, 100]"
      ]
     },
     "execution_count": 83,
     "metadata": {},
     "output_type": "execute_result"
    }
   ],
   "source": [
    "List_A.reverse ()\n",
    "List_A"
   ]
  },
  {
   "cell_type": "code",
   "execution_count": 85,
   "id": "992830d5-3a57-4954-b67d-ad31f362127f",
   "metadata": {},
   "outputs": [],
   "source": [
    "List_A.sort ()"
   ]
  },
  {
   "cell_type": "code",
   "execution_count": 87,
   "id": "8af70bf2-ceab-4e8b-a4a7-f68e9603b722",
   "metadata": {},
   "outputs": [
    {
     "data": {
      "text/plain": [
       "[5, 100, 110, 120, 130]"
      ]
     },
     "execution_count": 87,
     "metadata": {},
     "output_type": "execute_result"
    }
   ],
   "source": [
    "List_A"
   ]
  },
  {
   "cell_type": "code",
   "execution_count": 89,
   "id": "88a54fbd-b795-4cb5-b5fe-894f26299004",
   "metadata": {},
   "outputs": [
    {
     "data": {
      "text/plain": [
       "[130, 120, 110, 100, 5]"
      ]
     },
     "execution_count": 89,
     "metadata": {},
     "output_type": "execute_result"
    }
   ],
   "source": [
    "List_A.sort (reverse=True)\n",
    "List_A"
   ]
  },
  {
   "cell_type": "markdown",
   "id": "49590dc4-7409-4a5a-93fa-9e4e45176ed6",
   "metadata": {},
   "source": [
    "#### Modifying items in a list and changing the number of items"
   ]
  },
  {
   "cell_type": "code",
   "execution_count": 92,
   "id": "5b3d31e6-ca9e-4320-9363-a5c65138bf09",
   "metadata": {},
   "outputs": [],
   "source": [
    "mylist = [\"Shyam\", \"Vijay\", \"Kishore\", \"Abi\"]"
   ]
  },
  {
   "cell_type": "code",
   "execution_count": 94,
   "id": "303e813c-2626-49bd-b382-9884ba8da8ad",
   "metadata": {},
   "outputs": [],
   "source": [
    "mylist.insert (4, \"Manoj\")"
   ]
  },
  {
   "cell_type": "code",
   "execution_count": 96,
   "id": "eb90b0d7-c601-484d-9c3b-ad2e946ebc90",
   "metadata": {},
   "outputs": [
    {
     "data": {
      "text/plain": [
       "['Shyam', 'Vijay', 'Kishore', 'Abi', 'Manoj']"
      ]
     },
     "execution_count": 96,
     "metadata": {},
     "output_type": "execute_result"
    }
   ],
   "source": [
    "mylist"
   ]
  },
  {
   "cell_type": "code",
   "execution_count": 100,
   "id": "954b253c-2104-4455-8be0-6c999e6fdf69",
   "metadata": {},
   "outputs": [
    {
     "data": {
      "text/plain": [
       "['Shyam', 'Vijay', 'Kishore', 'Abi', 'Manoj', 'Prashant']"
      ]
     },
     "execution_count": 100,
     "metadata": {},
     "output_type": "execute_result"
    }
   ],
   "source": [
    "mylist.append (\"Prashant\")\n",
    "mylist"
   ]
  },
  {
   "cell_type": "code",
   "execution_count": 102,
   "id": "883f6576-92f0-4b9d-aded-fc223aa2ca63",
   "metadata": {},
   "outputs": [],
   "source": [
    "mylist2 = [\"cricket\", \"chess\", \"carrom\"]"
   ]
  },
  {
   "cell_type": "code",
   "execution_count": 104,
   "id": "632e020b-53f4-415c-b89d-a4f990db899f",
   "metadata": {},
   "outputs": [],
   "source": [
    "mylist.extend(mylist2)"
   ]
  },
  {
   "cell_type": "code",
   "execution_count": 106,
   "id": "d24deac7-3710-4895-91be-8761c3baee83",
   "metadata": {},
   "outputs": [
    {
     "data": {
      "text/plain": [
       "['Shyam',\n",
       " 'Vijay',\n",
       " 'Kishore',\n",
       " 'Abi',\n",
       " 'Manoj',\n",
       " 'Prashant',\n",
       " 'cricket',\n",
       " 'chess',\n",
       " 'carrom']"
      ]
     },
     "execution_count": 106,
     "metadata": {},
     "output_type": "execute_result"
    }
   ],
   "source": [
    "mylist"
   ]
  },
  {
   "cell_type": "code",
   "execution_count": 118,
   "id": "f61dbf45-6960-4897-86e0-c27f666f5d73",
   "metadata": {},
   "outputs": [
    {
     "data": {
      "text/plain": [
       "['Shyam', 'Vijay', 'Kishore', 'Abi', 'Manoj', 'Prashant', 'cricket']"
      ]
     },
     "execution_count": 118,
     "metadata": {},
     "output_type": "execute_result"
    }
   ],
   "source": [
    "mylist.remove (\"chess\")\n",
    "mylist"
   ]
  },
  {
   "cell_type": "code",
   "execution_count": 120,
   "id": "b73fb386-440b-460e-b087-4e067ffde0f9",
   "metadata": {},
   "outputs": [
    {
     "data": {
      "text/plain": [
       "['Shyam', 'Vijay', 'Kishore', 'Abi', 'Manoj', 'cricket']"
      ]
     },
     "execution_count": 120,
     "metadata": {},
     "output_type": "execute_result"
    }
   ],
   "source": [
    "del mylist [5]\n",
    "mylist"
   ]
  },
  {
   "cell_type": "code",
   "execution_count": 122,
   "id": "f139defb-4dfb-4630-9917-92081bdbb8bc",
   "metadata": {},
   "outputs": [
    {
     "ename": "NameError",
     "evalue": "name 'mylist2' is not defined",
     "output_type": "error",
     "traceback": [
      "\u001b[1;31m---------------------------------------------------------------------------\u001b[0m",
      "\u001b[1;31mNameError\u001b[0m                                 Traceback (most recent call last)",
      "Cell \u001b[1;32mIn[122], line 2\u001b[0m\n\u001b[0;32m      1\u001b[0m \u001b[38;5;28;01mdel\u001b[39;00m mylist2\n\u001b[1;32m----> 2\u001b[0m mylist2\n",
      "\u001b[1;31mNameError\u001b[0m: name 'mylist2' is not defined"
     ]
    }
   ],
   "source": [
    "del mylist2\n",
    "mylist2"
   ]
  },
  {
   "cell_type": "markdown",
   "id": "4aafec60-ca7f-4c2d-8172-0f65a478e9fd",
   "metadata": {},
   "source": [
    "- Error occurs because there is no mylist2 anymore"
   ]
  },
  {
   "cell_type": "markdown",
   "id": "dc14a832-8c5e-4d3f-a998-e5913e18472d",
   "metadata": {},
   "source": [
    "# TUPLES"
   ]
  },
  {
   "cell_type": "markdown",
   "id": "ae416114-2b55-46f6-a26f-96801481d9f8",
   "metadata": {},
   "source": [
    "- The next sequence type we are going to look at is very similar to List. It's the tuple. The only difference between a list and a tuple is that a tuple is immutable. We cannot manipulate it."
   ]
  },
  {
   "cell_type": "code",
   "execution_count": 135,
   "id": "58e5ea91-5546-4690-87bf-688c29a98d7a",
   "metadata": {},
   "outputs": [
    {
     "data": {
      "text/plain": [
       "tuple"
      ]
     },
     "execution_count": 135,
     "metadata": {},
     "output_type": "execute_result"
    }
   ],
   "source": [
    "tpl = (50, 60, 50)\n",
    "type(tpl)"
   ]
  },
  {
   "cell_type": "markdown",
   "id": "221e2e28-edf7-4081-a098-7a60eecf373a",
   "metadata": {},
   "source": [
    "# TUPLE FUNCTIONS"
   ]
  },
  {
   "cell_type": "markdown",
   "id": "b59b9b81-1ca7-433c-88b0-b0c26e29bd7b",
   "metadata": {},
   "source": [
    "-Basically, all the reading and assessing functions like len, min and max stay the same and can be used with tuples; however, it is not possible to use any modifying or appending functions."
   ]
  },
  {
   "cell_type": "code",
   "execution_count": 137,
   "id": "fe83e372-1e9f-4b3b-ac03-4a86ccf3c285",
   "metadata": {},
   "outputs": [
    {
     "data": {
      "text/plain": [
       "50"
      ]
     },
     "execution_count": 137,
     "metadata": {},
     "output_type": "execute_result"
    }
   ],
   "source": [
    "min (tpl)"
   ]
  },
  {
   "cell_type": "code",
   "execution_count": 139,
   "id": "3d18e447-fdb2-493a-957b-ca0f8edd09e3",
   "metadata": {},
   "outputs": [
    {
     "data": {
      "text/plain": [
       "60"
      ]
     },
     "execution_count": 139,
     "metadata": {},
     "output_type": "execute_result"
    }
   ],
   "source": [
    "max (tpl)"
   ]
  },
  {
   "cell_type": "code",
   "execution_count": 141,
   "id": "7f92e10e-2e93-4fbf-b8a4-48974db9d063",
   "metadata": {},
   "outputs": [
    {
     "data": {
      "text/plain": [
       "3"
      ]
     },
     "execution_count": 141,
     "metadata": {},
     "output_type": "execute_result"
    }
   ],
   "source": [
    "len (tpl)"
   ]
  },
  {
   "cell_type": "markdown",
   "id": "e7f7d182-c47d-402a-9b0b-c10ab00d5ee4",
   "metadata": {},
   "source": [
    "# DICTIONARIES"
   ]
  },
  {
   "cell_type": "markdown",
   "id": "226daa24-f2e7-4336-a9e7-967d1da71171",
   "metadata": {},
   "source": [
    "- In other programing languages this structure is called has map."
   ]
  },
  {
   "cell_type": "code",
   "execution_count": 145,
   "id": "40788e82-cb23-44c7-8d43-0f7f55ac8c48",
   "metadata": {},
   "outputs": [],
   "source": [
    "dct = {\"Name\" : \"William\", \"Age\" : 35, \"Height\" : 6.0 }"
   ]
  },
  {
   "cell_type": "code",
   "execution_count": 147,
   "id": "0f2ca64f-ccbe-4a74-9fab-852c1ffbc47b",
   "metadata": {},
   "outputs": [
    {
     "data": {
      "text/plain": [
       "{'Name': 'William', 'Age': 35, 'Height': 6.0}"
      ]
     },
     "execution_count": 147,
     "metadata": {},
     "output_type": "execute_result"
    }
   ],
   "source": [
    "dct"
   ]
  },
  {
   "cell_type": "markdown",
   "id": "a45ce240-ab43-4f89-a7df-bfbfe77bdfa1",
   "metadata": {},
   "source": [
    "- Since the key now replaces the index, it has to be unique. This is not the case for values. We can have many keys with the same value, but when we address a certain key, it as to be the only one with particular name. Also keys cannot be changed."
   ]
  },
  {
   "cell_type": "markdown",
   "id": "2130f903-88ec-4cce-a5dc-86ecf7da7fd2",
   "metadata": {},
   "source": [
    "# ACCESSING VALUES"
   ]
  },
  {
   "cell_type": "markdown",
   "id": "20df60e6-c93b-4654-8ad8-313ac5d2c0f3",
   "metadata": {},
   "source": [
    "- In order to access values of a dictionary, we need to address the keys."
   ]
  },
  {
   "cell_type": "code",
   "execution_count": 152,
   "id": "ae77ac26-f65b-4f97-9a8f-bb48cf285c84",
   "metadata": {},
   "outputs": [
    {
     "data": {
      "text/plain": [
       "'William'"
      ]
     },
     "execution_count": 152,
     "metadata": {},
     "output_type": "execute_result"
    }
   ],
   "source": [
    "dct [\"Name\"]"
   ]
  },
  {
   "cell_type": "code",
   "execution_count": 154,
   "id": "4e122d10-9d35-4550-84ff-4225e1aa62a7",
   "metadata": {},
   "outputs": [
    {
     "data": {
      "text/plain": [
       "35"
      ]
     },
     "execution_count": 154,
     "metadata": {},
     "output_type": "execute_result"
    }
   ],
   "source": [
    "dct [\"Age\"]"
   ]
  },
  {
   "cell_type": "code",
   "execution_count": 156,
   "id": "59ed44d8-c199-4b41-872e-d9855cb2c65e",
   "metadata": {},
   "outputs": [
    {
     "data": {
      "text/plain": [
       "6.0"
      ]
     },
     "execution_count": 156,
     "metadata": {},
     "output_type": "execute_result"
    }
   ],
   "source": [
    "dct [\"Height\"]"
   ]
  },
  {
   "cell_type": "markdown",
   "id": "a0869ac1-8722-44bd-adf8-3cc25c95dfd8",
   "metadata": {},
   "source": [
    "- Notice that if there were multiple keys with the same name, we could not get a result because we would not know which value we are talking about."
   ]
  },
  {
   "cell_type": "code",
   "execution_count": 5,
   "id": "dd539ecb-2651-484e-9dcb-f8e904abd357",
   "metadata": {},
   "outputs": [
    {
     "data": {
      "text/plain": [
       "{'Name': 'William', 'Age': 35, 'Height': 6.0}"
      ]
     },
     "execution_count": 5,
     "metadata": {},
     "output_type": "execute_result"
    }
   ],
   "source": [
    "dct = {\"Name\" : \"William\", \"Age\" : 35, \"Height\" : 6.0 }\n",
    "dct"
   ]
  },
  {
   "cell_type": "code",
   "execution_count": 7,
   "id": "f628b653-c7b0-4e25-8b66-c696e569a84a",
   "metadata": {},
   "outputs": [
    {
     "data": {
      "text/plain": [
       "3"
      ]
     },
     "execution_count": 7,
     "metadata": {},
     "output_type": "execute_result"
    }
   ],
   "source": [
    "len (dct)"
   ]
  },
  {
   "cell_type": "code",
   "execution_count": 11,
   "id": "cd1adc0b-0eaa-4503-814c-ec7f660e6ed2",
   "metadata": {},
   "outputs": [
    {
     "data": {
      "text/plain": [
       "\"{'Name': 'William', 'Age': 35, 'Height': 6.0}\""
      ]
     },
     "execution_count": 11,
     "metadata": {},
     "output_type": "execute_result"
    }
   ],
   "source": [
    "str(dct)"
   ]
  },
  {
   "cell_type": "code",
   "execution_count": 13,
   "id": "e4c443b8-0554-4213-94ed-893c9b819baf",
   "metadata": {},
   "outputs": [
    {
     "data": {
      "text/plain": [
       "{'Name': 'William', 'Age': 35, 'Height': 6.0}"
      ]
     },
     "execution_count": 13,
     "metadata": {},
     "output_type": "execute_result"
    }
   ],
   "source": [
    "dct_1 = dct.copy ()\n",
    "dct_1"
   ]
  },
  {
   "cell_type": "code",
   "execution_count": 15,
   "id": "dedea685-7ed5-4768-b92a-da373c598e41",
   "metadata": {},
   "outputs": [
    {
     "data": {
      "text/plain": [
       "{}"
      ]
     },
     "execution_count": 15,
     "metadata": {},
     "output_type": "execute_result"
    }
   ],
   "source": [
    "dct_1.clear ()\n",
    "dct_1"
   ]
  },
  {
   "cell_type": "code",
   "execution_count": 21,
   "id": "85201094-8671-4534-9e13-e3bc2c3a50bd",
   "metadata": {},
   "outputs": [
    {
     "data": {
      "text/plain": [
       "{'Name': None, 'Age': None, 'Height': None}"
      ]
     },
     "execution_count": 21,
     "metadata": {},
     "output_type": "execute_result"
    }
   ],
   "source": [
    "dct_2 = dct.fromkeys (dct)\n",
    "dct_2"
   ]
  },
  {
   "cell_type": "code",
   "execution_count": 23,
   "id": "8b3d1dfc-f9ea-4b86-8a24-ec6263a99918",
   "metadata": {},
   "outputs": [
    {
     "data": {
      "text/plain": [
       "'William'"
      ]
     },
     "execution_count": 23,
     "metadata": {},
     "output_type": "execute_result"
    }
   ],
   "source": [
    "dct.get(\"Name\")"
   ]
  },
  {
   "cell_type": "code",
   "execution_count": 25,
   "id": "33e8fd44-9503-4aaf-9125-7d70cd11d908",
   "metadata": {},
   "outputs": [
    {
     "data": {
      "text/plain": [
       "35"
      ]
     },
     "execution_count": 25,
     "metadata": {},
     "output_type": "execute_result"
    }
   ],
   "source": [
    "dct.get(\"Age\")"
   ]
  },
  {
   "cell_type": "code",
   "execution_count": 39,
   "id": "eeb42d8a-2e9b-403e-a75b-24fc88d2bd23",
   "metadata": {},
   "outputs": [],
   "source": [
    "dct_new = {\"Name\": \"Bob\", \"Age\": 25, \"Height\": 5.9 }"
   ]
  },
  {
   "cell_type": "code",
   "execution_count": 33,
   "id": "42032cd3-8fc9-4a03-a262-1abe1b3e7aab",
   "metadata": {},
   "outputs": [
    {
     "data": {
      "text/plain": [
       "{'Name': 'William', 'Age': 35, 'Height': 6.0}"
      ]
     },
     "execution_count": 33,
     "metadata": {},
     "output_type": "execute_result"
    }
   ],
   "source": [
    "dct"
   ]
  },
  {
   "cell_type": "code",
   "execution_count": 41,
   "id": "30608e74-dfba-4777-b6de-819492f22d62",
   "metadata": {},
   "outputs": [
    {
     "data": {
      "text/plain": [
       "{'Name': 'Bob', 'Age': 25, 'Height': 5.9}"
      ]
     },
     "execution_count": 41,
     "metadata": {},
     "output_type": "execute_result"
    }
   ],
   "source": [
    "dct.update (dct_new)\n",
    "dct"
   ]
  },
  {
   "cell_type": "code",
   "execution_count": 43,
   "id": "c542dd64-4916-4601-909f-907c89bd06f6",
   "metadata": {},
   "outputs": [
    {
     "data": {
      "text/plain": [
       "dict_values(['Bob', 25, 5.9])"
      ]
     },
     "execution_count": 43,
     "metadata": {},
     "output_type": "execute_result"
    }
   ],
   "source": [
    "dct.values ()"
   ]
  },
  {
   "cell_type": "code",
   "execution_count": 45,
   "id": "aae6a1d3-a74f-4d9c-bef9-51b8687f13d3",
   "metadata": {},
   "outputs": [
    {
     "data": {
      "text/plain": [
       "dict_keys(['Name', 'Age', 'Height'])"
      ]
     },
     "execution_count": 45,
     "metadata": {},
     "output_type": "execute_result"
    }
   ],
   "source": [
    "dct.keys ()"
   ]
  },
  {
   "cell_type": "markdown",
   "id": "4deb0aca-55d4-4d82-8400-32fd7c705d98",
   "metadata": {},
   "source": [
    "# MEMBERSHIP OPERATORS"
   ]
  },
  {
   "cell_type": "markdown",
   "id": "08a833f5-ad8c-429b-a7c4-0ee0f11f7d08",
   "metadata": {},
   "source": [
    "- These are very important when it comes to sequences.\n",
    "- We use them to check if an element is a member of a sequence, but also to iterate over sequences."
   ]
  },
  {
   "cell_type": "code",
   "execution_count": 49,
   "id": "d3013a5b-bf70-4c4c-bf30-00f526d68ba2",
   "metadata": {},
   "outputs": [],
   "source": [
    "list1 = [10, 20, 30, 40, 50]"
   ]
  },
  {
   "cell_type": "code",
   "execution_count": 51,
   "id": "41992921-2eaf-4aab-888d-b2bb3491eb2f",
   "metadata": {},
   "outputs": [
    {
     "name": "stdout",
     "output_type": "stream",
     "text": [
      "True\n"
     ]
    }
   ],
   "source": [
    "print (30 in list1)"
   ]
  },
  {
   "cell_type": "code",
   "execution_count": 53,
   "id": "c5cd09aa-48ed-4c2c-ad2f-0f71213ffb54",
   "metadata": {},
   "outputs": [
    {
     "name": "stdout",
     "output_type": "stream",
     "text": [
      "False\n"
     ]
    }
   ],
   "source": [
    "print (80 in list1)"
   ]
  },
  {
   "cell_type": "code",
   "execution_count": 55,
   "id": "78122244-0ea0-4f87-9b41-0fa07a46a24d",
   "metadata": {},
   "outputs": [
    {
     "name": "stdout",
     "output_type": "stream",
     "text": [
      "True\n"
     ]
    }
   ],
   "source": [
    "print (80 not in list1)"
   ]
  },
  {
   "cell_type": "code",
   "execution_count": null,
   "id": "52119b10-bf9d-4b6d-9d84-11f6ff8d8ba8",
   "metadata": {},
   "outputs": [],
   "source": []
  }
 ],
 "metadata": {
  "kernelspec": {
   "display_name": "Python 3 (ipykernel)",
   "language": "python",
   "name": "python3"
  },
  "language_info": {
   "codemirror_mode": {
    "name": "ipython",
    "version": 3
   },
   "file_extension": ".py",
   "mimetype": "text/x-python",
   "name": "python",
   "nbconvert_exporter": "python",
   "pygments_lexer": "ipython3",
   "version": "3.12.4"
  }
 },
 "nbformat": 4,
 "nbformat_minor": 5
}
