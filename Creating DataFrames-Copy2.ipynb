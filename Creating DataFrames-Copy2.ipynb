{
 "cells": [
  {
   "cell_type": "markdown",
   "id": "77a9500e-a2d4-4c25-a8bc-2278d1b73a6f",
   "metadata": {},
   "source": [
    "# Creating DataFrames"
   ]
  },
  {
   "cell_type": "code",
   "execution_count": 1,
   "id": "80bd9493-1504-440d-a38f-8b930b6dbdf1",
   "metadata": {},
   "outputs": [],
   "source": [
    "import pandas as pd \n",
    "import numpy as np\n",
    "import warnings\n",
    "warnings.filterwarnings('ignore')"
   ]
  },
  {
   "cell_type": "markdown",
   "id": "2c540593-8a20-4e0e-bd42-234e5760bae1",
   "metadata": {},
   "source": [
    "### Creating a Series object"
   ]
  },
  {
   "cell_type": "code",
   "execution_count": 2,
   "id": "728fa45b-990c-4b80-a94d-2ac51905e4a3",
   "metadata": {},
   "outputs": [],
   "source": [
    "list_A = ['Arjun', 'Anoop', 'Sanu']"
   ]
  },
  {
   "cell_type": "code",
   "execution_count": 3,
   "id": "43825da5-f415-4654-b017-e341df0786bd",
   "metadata": {},
   "outputs": [],
   "source": [
    "Series_from_list_A = pd.Series(list_A)"
   ]
  },
  {
   "cell_type": "code",
   "execution_count": 4,
   "id": "ab41cbaf-8203-45be-87b0-67e53f626d26",
   "metadata": {},
   "outputs": [
    {
     "data": {
      "text/plain": [
       "0    Arjun\n",
       "1    Anoop\n",
       "2     Sanu\n",
       "dtype: object"
      ]
     },
     "execution_count": 4,
     "metadata": {},
     "output_type": "execute_result"
    }
   ],
   "source": [
    "Series_from_list_A"
   ]
  },
  {
   "cell_type": "code",
   "execution_count": 5,
   "id": "f8d588d7-9912-4d84-b638-6b9883370bb4",
   "metadata": {},
   "outputs": [
    {
     "data": {
      "text/plain": [
       "pandas.core.series.Series"
      ]
     },
     "execution_count": 5,
     "metadata": {},
     "output_type": "execute_result"
    }
   ],
   "source": [
    "type(Series_from_list_A)"
   ]
  },
  {
   "cell_type": "markdown",
   "id": "e8d4adca-4f3e-4878-80b6-aff5b55821a8",
   "metadata": {},
   "source": [
    "#### Creating DataFrame using list data"
   ]
  },
  {
   "cell_type": "code",
   "execution_count": 6,
   "id": "0da41c0f-5e16-42a4-8151-5146edfb0183",
   "metadata": {},
   "outputs": [],
   "source": [
    "data_from_List_A = pd.DataFrame(list_A)"
   ]
  },
  {
   "cell_type": "code",
   "execution_count": 7,
   "id": "492e828a-3879-4758-8d78-8cb193a70133",
   "metadata": {},
   "outputs": [
    {
     "data": {
      "text/html": [
       "<div>\n",
       "<style scoped>\n",
       "    .dataframe tbody tr th:only-of-type {\n",
       "        vertical-align: middle;\n",
       "    }\n",
       "\n",
       "    .dataframe tbody tr th {\n",
       "        vertical-align: top;\n",
       "    }\n",
       "\n",
       "    .dataframe thead th {\n",
       "        text-align: right;\n",
       "    }\n",
       "</style>\n",
       "<table border=\"1\" class=\"dataframe\">\n",
       "  <thead>\n",
       "    <tr style=\"text-align: right;\">\n",
       "      <th></th>\n",
       "      <th>0</th>\n",
       "    </tr>\n",
       "  </thead>\n",
       "  <tbody>\n",
       "    <tr>\n",
       "      <th>0</th>\n",
       "      <td>Arjun</td>\n",
       "    </tr>\n",
       "    <tr>\n",
       "      <th>1</th>\n",
       "      <td>Anoop</td>\n",
       "    </tr>\n",
       "    <tr>\n",
       "      <th>2</th>\n",
       "      <td>Sanu</td>\n",
       "    </tr>\n",
       "  </tbody>\n",
       "</table>\n",
       "</div>"
      ],
      "text/plain": [
       "       0\n",
       "0  Arjun\n",
       "1  Anoop\n",
       "2   Sanu"
      ]
     },
     "execution_count": 7,
     "metadata": {},
     "output_type": "execute_result"
    }
   ],
   "source": [
    "data_from_List_A"
   ]
  },
  {
   "cell_type": "code",
   "execution_count": 8,
   "id": "121032fc-9484-44d8-a42b-87da481fd72c",
   "metadata": {},
   "outputs": [
    {
     "data": {
      "text/plain": [
       "pandas.core.frame.DataFrame"
      ]
     },
     "execution_count": 8,
     "metadata": {},
     "output_type": "execute_result"
    }
   ],
   "source": [
    "type(data_from_List_A)"
   ]
  },
  {
   "cell_type": "markdown",
   "id": "5e9bea76-aabd-48bd-9407-f2362f6e857d",
   "metadata": {},
   "source": [
    "* Since it has no column name, we need to specify it."
   ]
  },
  {
   "cell_type": "code",
   "execution_count": 9,
   "id": "cb12607c-04d4-4cc9-ad91-d0377e0cef78",
   "metadata": {},
   "outputs": [],
   "source": [
    "data_from_List_A = pd.DataFrame(list_A, columns=['Names'])"
   ]
  },
  {
   "cell_type": "code",
   "execution_count": 10,
   "id": "fda9b0da-6d2b-4020-af1e-2ad0db8e750b",
   "metadata": {},
   "outputs": [
    {
     "data": {
      "text/html": [
       "<div>\n",
       "<style scoped>\n",
       "    .dataframe tbody tr th:only-of-type {\n",
       "        vertical-align: middle;\n",
       "    }\n",
       "\n",
       "    .dataframe tbody tr th {\n",
       "        vertical-align: top;\n",
       "    }\n",
       "\n",
       "    .dataframe thead th {\n",
       "        text-align: right;\n",
       "    }\n",
       "</style>\n",
       "<table border=\"1\" class=\"dataframe\">\n",
       "  <thead>\n",
       "    <tr style=\"text-align: right;\">\n",
       "      <th></th>\n",
       "      <th>Names</th>\n",
       "    </tr>\n",
       "  </thead>\n",
       "  <tbody>\n",
       "    <tr>\n",
       "      <th>0</th>\n",
       "      <td>Arjun</td>\n",
       "    </tr>\n",
       "    <tr>\n",
       "      <th>1</th>\n",
       "      <td>Anoop</td>\n",
       "    </tr>\n",
       "    <tr>\n",
       "      <th>2</th>\n",
       "      <td>Sanu</td>\n",
       "    </tr>\n",
       "  </tbody>\n",
       "</table>\n",
       "</div>"
      ],
      "text/plain": [
       "   Names\n",
       "0  Arjun\n",
       "1  Anoop\n",
       "2   Sanu"
      ]
     },
     "execution_count": 10,
     "metadata": {},
     "output_type": "execute_result"
    }
   ],
   "source": [
    "data_from_List_A"
   ]
  },
  {
   "cell_type": "markdown",
   "id": "f5fc407a-c4a7-4d98-bbfc-93ae3a13bb6a",
   "metadata": {},
   "source": [
    "### Creating multiple columns"
   ]
  },
  {
   "cell_type": "code",
   "execution_count": 11,
   "id": "70b79d86-4411-4ac5-a23f-2cd05c8d6b25",
   "metadata": {},
   "outputs": [],
   "source": [
    "list_B = [90, 89 , 91]"
   ]
  },
  {
   "cell_type": "code",
   "execution_count": 12,
   "id": "8406acc9-c5af-4c54-927a-f704a0bd161d",
   "metadata": {},
   "outputs": [
    {
     "data": {
      "text/html": [
       "<div>\n",
       "<style scoped>\n",
       "    .dataframe tbody tr th:only-of-type {\n",
       "        vertical-align: middle;\n",
       "    }\n",
       "\n",
       "    .dataframe tbody tr th {\n",
       "        vertical-align: top;\n",
       "    }\n",
       "\n",
       "    .dataframe thead th {\n",
       "        text-align: right;\n",
       "    }\n",
       "</style>\n",
       "<table border=\"1\" class=\"dataframe\">\n",
       "  <thead>\n",
       "    <tr style=\"text-align: right;\">\n",
       "      <th></th>\n",
       "      <th>Names</th>\n",
       "      <th>Marks</th>\n",
       "    </tr>\n",
       "  </thead>\n",
       "  <tbody>\n",
       "    <tr>\n",
       "      <th>0</th>\n",
       "      <td>Arjun</td>\n",
       "      <td>90</td>\n",
       "    </tr>\n",
       "    <tr>\n",
       "      <th>1</th>\n",
       "      <td>Anoop</td>\n",
       "      <td>89</td>\n",
       "    </tr>\n",
       "    <tr>\n",
       "      <th>2</th>\n",
       "      <td>Sanu</td>\n",
       "      <td>91</td>\n",
       "    </tr>\n",
       "  </tbody>\n",
       "</table>\n",
       "</div>"
      ],
      "text/plain": [
       "   Names  Marks\n",
       "0  Arjun     90\n",
       "1  Anoop     89\n",
       "2   Sanu     91"
      ]
     },
     "execution_count": 12,
     "metadata": {},
     "output_type": "execute_result"
    }
   ],
   "source": [
    "data_from_both_Lists = pd.DataFrame(list(zip(list_A, list_B)), columns=['Names', 'Marks'])\n",
    "data_from_both_Lists"
   ]
  },
  {
   "cell_type": "markdown",
   "id": "a2b1e0e1-3299-4beb-82c8-cedfffa1e397",
   "metadata": {},
   "source": [
    "* Hence, we have created a multi column Dataframe from different list we have. The main point to note here is the length of each list should be same. If the length does not match, we’ll get an error."
   ]
  },
  {
   "cell_type": "markdown",
   "id": "e83c2f02-74b3-4ae1-87ad-6edeea136809",
   "metadata": {},
   "source": [
    "# Creating DataFrame from list of dictionaries"
   ]
  },
  {
   "cell_type": "code",
   "execution_count": 13,
   "id": "04c4a1fc-25c9-460b-ab37-883cc666ab5d",
   "metadata": {},
   "outputs": [],
   "source": [
    "dict_list = [\n",
    "    {\"Name\": \"Arjun\", \"Mark\":90 },\n",
    "    {\"Name\": \"Anoop\", \"Mark\":89 },\n",
    "    {\"Name\": \"Sanu\", \"Mark\":91 }\n",
    "]"
   ]
  },
  {
   "cell_type": "code",
   "execution_count": 14,
   "id": "0caf7864-5fe6-4622-8ec8-ac0cfb790525",
   "metadata": {},
   "outputs": [
    {
     "data": {
      "text/plain": [
       "[{'Name': 'Arjun', 'Mark': 90},\n",
       " {'Name': 'Anoop', 'Mark': 89},\n",
       " {'Name': 'Sanu', 'Mark': 91}]"
      ]
     },
     "execution_count": 14,
     "metadata": {},
     "output_type": "execute_result"
    }
   ],
   "source": [
    "dict_list"
   ]
  },
  {
   "cell_type": "code",
   "execution_count": 15,
   "id": "45e4b08f-77e6-4c81-befa-5b0e0f64c2b6",
   "metadata": {},
   "outputs": [],
   "source": [
    "data_from_list_of_dict = pd.DataFrame(dict_list)"
   ]
  },
  {
   "cell_type": "code",
   "execution_count": 16,
   "id": "12b5036a-5a57-44b3-a19c-b57acfdd011b",
   "metadata": {},
   "outputs": [
    {
     "data": {
      "text/html": [
       "<div>\n",
       "<style scoped>\n",
       "    .dataframe tbody tr th:only-of-type {\n",
       "        vertical-align: middle;\n",
       "    }\n",
       "\n",
       "    .dataframe tbody tr th {\n",
       "        vertical-align: top;\n",
       "    }\n",
       "\n",
       "    .dataframe thead th {\n",
       "        text-align: right;\n",
       "    }\n",
       "</style>\n",
       "<table border=\"1\" class=\"dataframe\">\n",
       "  <thead>\n",
       "    <tr style=\"text-align: right;\">\n",
       "      <th></th>\n",
       "      <th>Name</th>\n",
       "      <th>Mark</th>\n",
       "    </tr>\n",
       "  </thead>\n",
       "  <tbody>\n",
       "    <tr>\n",
       "      <th>0</th>\n",
       "      <td>Arjun</td>\n",
       "      <td>90</td>\n",
       "    </tr>\n",
       "    <tr>\n",
       "      <th>1</th>\n",
       "      <td>Anoop</td>\n",
       "      <td>89</td>\n",
       "    </tr>\n",
       "    <tr>\n",
       "      <th>2</th>\n",
       "      <td>Sanu</td>\n",
       "      <td>91</td>\n",
       "    </tr>\n",
       "  </tbody>\n",
       "</table>\n",
       "</div>"
      ],
      "text/plain": [
       "    Name  Mark\n",
       "0  Arjun    90\n",
       "1  Anoop    89\n",
       "2   Sanu    91"
      ]
     },
     "execution_count": 16,
     "metadata": {},
     "output_type": "execute_result"
    }
   ],
   "source": [
    "data_from_list_of_dict"
   ]
  },
  {
   "cell_type": "markdown",
   "id": "affa930f-c207-465c-9b7b-91cd92dbfdea",
   "metadata": {},
   "source": [
    "### Concatenating Series Objects"
   ]
  },
  {
   "cell_type": "code",
   "execution_count": 17,
   "id": "b229f8bc-0ccf-44a6-97c8-d4b76193bcfc",
   "metadata": {},
   "outputs": [],
   "source": [
    "Series_1 = pd.Series([\"A\", \"B\", \"C\"])"
   ]
  },
  {
   "cell_type": "code",
   "execution_count": 18,
   "id": "7de0b07b-a50e-4c6a-92d3-454ce3ea9a2d",
   "metadata": {},
   "outputs": [],
   "source": [
    "Series_2 = pd.Series([\"D\", \"E\", \"F\"])"
   ]
  },
  {
   "cell_type": "code",
   "execution_count": 19,
   "id": "806e1d4f-b507-44c0-b001-477a15b4fe52",
   "metadata": {},
   "outputs": [
    {
     "data": {
      "text/plain": [
       "0    A\n",
       "1    B\n",
       "2    C\n",
       "dtype: object"
      ]
     },
     "execution_count": 19,
     "metadata": {},
     "output_type": "execute_result"
    }
   ],
   "source": [
    "Series_1"
   ]
  },
  {
   "cell_type": "code",
   "execution_count": 20,
   "id": "e05202f8-283c-42ac-abda-f8b6c3694300",
   "metadata": {},
   "outputs": [
    {
     "data": {
      "text/plain": [
       "0    D\n",
       "1    E\n",
       "2    F\n",
       "dtype: object"
      ]
     },
     "execution_count": 20,
     "metadata": {},
     "output_type": "execute_result"
    }
   ],
   "source": [
    "Series_2"
   ]
  },
  {
   "cell_type": "code",
   "execution_count": 21,
   "id": "b2f5e2ee-24f9-4458-8ca7-45242e20f964",
   "metadata": {},
   "outputs": [
    {
     "data": {
      "text/plain": [
       "0    A\n",
       "1    B\n",
       "2    C\n",
       "0    D\n",
       "1    E\n",
       "2    F\n",
       "dtype: object"
      ]
     },
     "execution_count": 21,
     "metadata": {},
     "output_type": "execute_result"
    }
   ],
   "source": [
    "pd.concat([Series_1, Series_2])"
   ]
  },
  {
   "cell_type": "markdown",
   "id": "0518ded9-e621-4416-9e3b-edbdaf69397f",
   "metadata": {},
   "source": [
    "#### Managing Duplicate index"
   ]
  },
  {
   "cell_type": "code",
   "execution_count": 22,
   "id": "a3ebb172-7776-4c98-b20c-55bb3712d814",
   "metadata": {},
   "outputs": [
    {
     "data": {
      "text/plain": [
       "0    A\n",
       "1    B\n",
       "2    C\n",
       "3    D\n",
       "4    E\n",
       "5    F\n",
       "dtype: object"
      ]
     },
     "execution_count": 22,
     "metadata": {},
     "output_type": "execute_result"
    }
   ],
   "source": [
    "pd.concat([Series_1, Series_2], ignore_index=True)"
   ]
  },
  {
   "cell_type": "markdown",
   "id": "2cf928d1-abbb-424b-afac-fca030889c6b",
   "metadata": {},
   "source": [
    "### Concatenating DataFrames"
   ]
  },
  {
   "cell_type": "code",
   "execution_count": 23,
   "id": "4a77c820-09cd-4669-b3f3-688ce90a156b",
   "metadata": {},
   "outputs": [],
   "source": [
    "Arjun_scores = {\n",
    "\"subjects\": ['maths', 'physics', 'chemistry', 'biology'],\n",
    "\"sem1\":[60, 70, 80, 90],\n",
    "\"sem2\":[63, 71, 85, 89],\n",
    "}\n",
    "Sanu_scores = {\n",
    "\"subjects\": ['maths', 'physics', 'chemistry', 'computers'],\n",
    "\"sem1\":[63, 77, 89, 92],\n",
    "\"sem2\":[73, 81, 88, 83],\n",
    "}"
   ]
  },
  {
   "cell_type": "code",
   "execution_count": 24,
   "id": "e1c708e5-268c-45c8-9f5f-4a992c84919a",
   "metadata": {},
   "outputs": [],
   "source": [
    "data_Arjun = pd.DataFrame(Arjun_scores)\n",
    "data_Sanu = pd.DataFrame(Sanu_scores)"
   ]
  },
  {
   "cell_type": "code",
   "execution_count": 25,
   "id": "888bc440-4c5c-49c5-8d6b-597b2c9aac1d",
   "metadata": {},
   "outputs": [
    {
     "data": {
      "text/html": [
       "<div>\n",
       "<style scoped>\n",
       "    .dataframe tbody tr th:only-of-type {\n",
       "        vertical-align: middle;\n",
       "    }\n",
       "\n",
       "    .dataframe tbody tr th {\n",
       "        vertical-align: top;\n",
       "    }\n",
       "\n",
       "    .dataframe thead th {\n",
       "        text-align: right;\n",
       "    }\n",
       "</style>\n",
       "<table border=\"1\" class=\"dataframe\">\n",
       "  <thead>\n",
       "    <tr style=\"text-align: right;\">\n",
       "      <th></th>\n",
       "      <th>subjects</th>\n",
       "      <th>sem1</th>\n",
       "      <th>sem2</th>\n",
       "    </tr>\n",
       "  </thead>\n",
       "  <tbody>\n",
       "    <tr>\n",
       "      <th>0</th>\n",
       "      <td>maths</td>\n",
       "      <td>60</td>\n",
       "      <td>63</td>\n",
       "    </tr>\n",
       "    <tr>\n",
       "      <th>1</th>\n",
       "      <td>physics</td>\n",
       "      <td>70</td>\n",
       "      <td>71</td>\n",
       "    </tr>\n",
       "    <tr>\n",
       "      <th>2</th>\n",
       "      <td>chemistry</td>\n",
       "      <td>80</td>\n",
       "      <td>85</td>\n",
       "    </tr>\n",
       "    <tr>\n",
       "      <th>3</th>\n",
       "      <td>biology</td>\n",
       "      <td>90</td>\n",
       "      <td>89</td>\n",
       "    </tr>\n",
       "  </tbody>\n",
       "</table>\n",
       "</div>"
      ],
      "text/plain": [
       "    subjects  sem1  sem2\n",
       "0      maths    60    63\n",
       "1    physics    70    71\n",
       "2  chemistry    80    85\n",
       "3    biology    90    89"
      ]
     },
     "execution_count": 25,
     "metadata": {},
     "output_type": "execute_result"
    }
   ],
   "source": [
    "data_Arjun"
   ]
  },
  {
   "cell_type": "code",
   "execution_count": 26,
   "id": "9c1e3c5b-9918-4ed8-98fb-47a2034c3de8",
   "metadata": {},
   "outputs": [
    {
     "data": {
      "text/html": [
       "<div>\n",
       "<style scoped>\n",
       "    .dataframe tbody tr th:only-of-type {\n",
       "        vertical-align: middle;\n",
       "    }\n",
       "\n",
       "    .dataframe tbody tr th {\n",
       "        vertical-align: top;\n",
       "    }\n",
       "\n",
       "    .dataframe thead th {\n",
       "        text-align: right;\n",
       "    }\n",
       "</style>\n",
       "<table border=\"1\" class=\"dataframe\">\n",
       "  <thead>\n",
       "    <tr style=\"text-align: right;\">\n",
       "      <th></th>\n",
       "      <th>subjects</th>\n",
       "      <th>sem1</th>\n",
       "      <th>sem2</th>\n",
       "    </tr>\n",
       "  </thead>\n",
       "  <tbody>\n",
       "    <tr>\n",
       "      <th>0</th>\n",
       "      <td>maths</td>\n",
       "      <td>63</td>\n",
       "      <td>73</td>\n",
       "    </tr>\n",
       "    <tr>\n",
       "      <th>1</th>\n",
       "      <td>physics</td>\n",
       "      <td>77</td>\n",
       "      <td>81</td>\n",
       "    </tr>\n",
       "    <tr>\n",
       "      <th>2</th>\n",
       "      <td>chemistry</td>\n",
       "      <td>89</td>\n",
       "      <td>88</td>\n",
       "    </tr>\n",
       "    <tr>\n",
       "      <th>3</th>\n",
       "      <td>computers</td>\n",
       "      <td>92</td>\n",
       "      <td>83</td>\n",
       "    </tr>\n",
       "  </tbody>\n",
       "</table>\n",
       "</div>"
      ],
      "text/plain": [
       "    subjects  sem1  sem2\n",
       "0      maths    63    73\n",
       "1    physics    77    81\n",
       "2  chemistry    89    88\n",
       "3  computers    92    83"
      ]
     },
     "execution_count": 26,
     "metadata": {},
     "output_type": "execute_result"
    }
   ],
   "source": [
    "data_Sanu"
   ]
  },
  {
   "cell_type": "code",
   "execution_count": 27,
   "id": "2364ac61-0622-453a-8557-e2c2055d40be",
   "metadata": {},
   "outputs": [
    {
     "data": {
      "text/html": [
       "<div>\n",
       "<style scoped>\n",
       "    .dataframe tbody tr th:only-of-type {\n",
       "        vertical-align: middle;\n",
       "    }\n",
       "\n",
       "    .dataframe tbody tr th {\n",
       "        vertical-align: top;\n",
       "    }\n",
       "\n",
       "    .dataframe thead th {\n",
       "        text-align: right;\n",
       "    }\n",
       "</style>\n",
       "<table border=\"1\" class=\"dataframe\">\n",
       "  <thead>\n",
       "    <tr style=\"text-align: right;\">\n",
       "      <th></th>\n",
       "      <th>subjects</th>\n",
       "      <th>sem1</th>\n",
       "      <th>sem2</th>\n",
       "    </tr>\n",
       "  </thead>\n",
       "  <tbody>\n",
       "    <tr>\n",
       "      <th>0</th>\n",
       "      <td>maths</td>\n",
       "      <td>60</td>\n",
       "      <td>63</td>\n",
       "    </tr>\n",
       "    <tr>\n",
       "      <th>1</th>\n",
       "      <td>physics</td>\n",
       "      <td>70</td>\n",
       "      <td>71</td>\n",
       "    </tr>\n",
       "    <tr>\n",
       "      <th>2</th>\n",
       "      <td>chemistry</td>\n",
       "      <td>80</td>\n",
       "      <td>85</td>\n",
       "    </tr>\n",
       "    <tr>\n",
       "      <th>3</th>\n",
       "      <td>biology</td>\n",
       "      <td>90</td>\n",
       "      <td>89</td>\n",
       "    </tr>\n",
       "    <tr>\n",
       "      <th>0</th>\n",
       "      <td>maths</td>\n",
       "      <td>63</td>\n",
       "      <td>73</td>\n",
       "    </tr>\n",
       "    <tr>\n",
       "      <th>1</th>\n",
       "      <td>physics</td>\n",
       "      <td>77</td>\n",
       "      <td>81</td>\n",
       "    </tr>\n",
       "    <tr>\n",
       "      <th>2</th>\n",
       "      <td>chemistry</td>\n",
       "      <td>89</td>\n",
       "      <td>88</td>\n",
       "    </tr>\n",
       "    <tr>\n",
       "      <th>3</th>\n",
       "      <td>computers</td>\n",
       "      <td>92</td>\n",
       "      <td>83</td>\n",
       "    </tr>\n",
       "  </tbody>\n",
       "</table>\n",
       "</div>"
      ],
      "text/plain": [
       "    subjects  sem1  sem2\n",
       "0      maths    60    63\n",
       "1    physics    70    71\n",
       "2  chemistry    80    85\n",
       "3    biology    90    89\n",
       "0      maths    63    73\n",
       "1    physics    77    81\n",
       "2  chemistry    89    88\n",
       "3  computers    92    83"
      ]
     },
     "execution_count": 27,
     "metadata": {},
     "output_type": "execute_result"
    }
   ],
   "source": [
    "data_concatenated = pd.concat([data_Arjun, data_Sanu])\n",
    "data_concatenated"
   ]
  },
  {
   "cell_type": "markdown",
   "id": "93f057df-843a-4a1c-bda3-9b9819a8a0e6",
   "metadata": {},
   "source": [
    "### Managing duplicate index"
   ]
  },
  {
   "cell_type": "code",
   "execution_count": 28,
   "id": "fc601e9c-4753-4cc2-9913-8783ae3d44d0",
   "metadata": {},
   "outputs": [
    {
     "data": {
      "text/html": [
       "<div>\n",
       "<style scoped>\n",
       "    .dataframe tbody tr th:only-of-type {\n",
       "        vertical-align: middle;\n",
       "    }\n",
       "\n",
       "    .dataframe tbody tr th {\n",
       "        vertical-align: top;\n",
       "    }\n",
       "\n",
       "    .dataframe thead th {\n",
       "        text-align: right;\n",
       "    }\n",
       "</style>\n",
       "<table border=\"1\" class=\"dataframe\">\n",
       "  <thead>\n",
       "    <tr style=\"text-align: right;\">\n",
       "      <th></th>\n",
       "      <th>subjects</th>\n",
       "      <th>sem1</th>\n",
       "      <th>sem2</th>\n",
       "    </tr>\n",
       "  </thead>\n",
       "  <tbody>\n",
       "    <tr>\n",
       "      <th>0</th>\n",
       "      <td>maths</td>\n",
       "      <td>60</td>\n",
       "      <td>63</td>\n",
       "    </tr>\n",
       "    <tr>\n",
       "      <th>1</th>\n",
       "      <td>physics</td>\n",
       "      <td>70</td>\n",
       "      <td>71</td>\n",
       "    </tr>\n",
       "    <tr>\n",
       "      <th>2</th>\n",
       "      <td>chemistry</td>\n",
       "      <td>80</td>\n",
       "      <td>85</td>\n",
       "    </tr>\n",
       "    <tr>\n",
       "      <th>3</th>\n",
       "      <td>biology</td>\n",
       "      <td>90</td>\n",
       "      <td>89</td>\n",
       "    </tr>\n",
       "    <tr>\n",
       "      <th>4</th>\n",
       "      <td>maths</td>\n",
       "      <td>63</td>\n",
       "      <td>73</td>\n",
       "    </tr>\n",
       "    <tr>\n",
       "      <th>5</th>\n",
       "      <td>physics</td>\n",
       "      <td>77</td>\n",
       "      <td>81</td>\n",
       "    </tr>\n",
       "    <tr>\n",
       "      <th>6</th>\n",
       "      <td>chemistry</td>\n",
       "      <td>89</td>\n",
       "      <td>88</td>\n",
       "    </tr>\n",
       "    <tr>\n",
       "      <th>7</th>\n",
       "      <td>computers</td>\n",
       "      <td>92</td>\n",
       "      <td>83</td>\n",
       "    </tr>\n",
       "  </tbody>\n",
       "</table>\n",
       "</div>"
      ],
      "text/plain": [
       "    subjects  sem1  sem2\n",
       "0      maths    60    63\n",
       "1    physics    70    71\n",
       "2  chemistry    80    85\n",
       "3    biology    90    89\n",
       "4      maths    63    73\n",
       "5    physics    77    81\n",
       "6  chemistry    89    88\n",
       "7  computers    92    83"
      ]
     },
     "execution_count": 28,
     "metadata": {},
     "output_type": "execute_result"
    }
   ],
   "source": [
    "data_concatenated = pd.concat([data_Arjun, data_Sanu], ignore_index=True)\n",
    "data_concatenated"
   ]
  },
  {
   "cell_type": "markdown",
   "id": "8fdc9a34-80c7-4e18-986b-3f0e300511b6",
   "metadata": {},
   "source": [
    "### Adding keys to DataFrames"
   ]
  },
  {
   "cell_type": "code",
   "execution_count": 29,
   "id": "b01ef999-6932-42d8-8ad7-456876ff7509",
   "metadata": {},
   "outputs": [
    {
     "data": {
      "text/html": [
       "<div>\n",
       "<style scoped>\n",
       "    .dataframe tbody tr th:only-of-type {\n",
       "        vertical-align: middle;\n",
       "    }\n",
       "\n",
       "    .dataframe tbody tr th {\n",
       "        vertical-align: top;\n",
       "    }\n",
       "\n",
       "    .dataframe thead th {\n",
       "        text-align: right;\n",
       "    }\n",
       "</style>\n",
       "<table border=\"1\" class=\"dataframe\">\n",
       "  <thead>\n",
       "    <tr style=\"text-align: right;\">\n",
       "      <th></th>\n",
       "      <th></th>\n",
       "      <th>subjects</th>\n",
       "      <th>sem1</th>\n",
       "      <th>sem2</th>\n",
       "    </tr>\n",
       "  </thead>\n",
       "  <tbody>\n",
       "    <tr>\n",
       "      <th rowspan=\"4\" valign=\"top\">Arjun</th>\n",
       "      <th>0</th>\n",
       "      <td>maths</td>\n",
       "      <td>60</td>\n",
       "      <td>63</td>\n",
       "    </tr>\n",
       "    <tr>\n",
       "      <th>1</th>\n",
       "      <td>physics</td>\n",
       "      <td>70</td>\n",
       "      <td>71</td>\n",
       "    </tr>\n",
       "    <tr>\n",
       "      <th>2</th>\n",
       "      <td>chemistry</td>\n",
       "      <td>80</td>\n",
       "      <td>85</td>\n",
       "    </tr>\n",
       "    <tr>\n",
       "      <th>3</th>\n",
       "      <td>biology</td>\n",
       "      <td>90</td>\n",
       "      <td>89</td>\n",
       "    </tr>\n",
       "    <tr>\n",
       "      <th rowspan=\"4\" valign=\"top\">Sanu</th>\n",
       "      <th>0</th>\n",
       "      <td>maths</td>\n",
       "      <td>63</td>\n",
       "      <td>73</td>\n",
       "    </tr>\n",
       "    <tr>\n",
       "      <th>1</th>\n",
       "      <td>physics</td>\n",
       "      <td>77</td>\n",
       "      <td>81</td>\n",
       "    </tr>\n",
       "    <tr>\n",
       "      <th>2</th>\n",
       "      <td>chemistry</td>\n",
       "      <td>89</td>\n",
       "      <td>88</td>\n",
       "    </tr>\n",
       "    <tr>\n",
       "      <th>3</th>\n",
       "      <td>computers</td>\n",
       "      <td>92</td>\n",
       "      <td>83</td>\n",
       "    </tr>\n",
       "  </tbody>\n",
       "</table>\n",
       "</div>"
      ],
      "text/plain": [
       "          subjects  sem1  sem2\n",
       "Arjun 0      maths    60    63\n",
       "      1    physics    70    71\n",
       "      2  chemistry    80    85\n",
       "      3    biology    90    89\n",
       "Sanu  0      maths    63    73\n",
       "      1    physics    77    81\n",
       "      2  chemistry    89    88\n",
       "      3  computers    92    83"
      ]
     },
     "execution_count": 29,
     "metadata": {},
     "output_type": "execute_result"
    }
   ],
   "source": [
    "data_concatenated = pd.concat([data_Arjun, data_Sanu], keys=['Arjun', 'Sanu'])\n",
    "data_concatenated"
   ]
  },
  {
   "cell_type": "markdown",
   "id": "83bff43a-153d-4546-b423-213a011b2ded",
   "metadata": {},
   "source": [
    "###  Use of keys"
   ]
  },
  {
   "cell_type": "code",
   "execution_count": 33,
   "id": "dfad45a7-f7b5-4a90-b5c6-188a5b4047d3",
   "metadata": {},
   "outputs": [
    {
     "data": {
      "text/html": [
       "<div>\n",
       "<style scoped>\n",
       "    .dataframe tbody tr th:only-of-type {\n",
       "        vertical-align: middle;\n",
       "    }\n",
       "\n",
       "    .dataframe tbody tr th {\n",
       "        vertical-align: top;\n",
       "    }\n",
       "\n",
       "    .dataframe thead th {\n",
       "        text-align: right;\n",
       "    }\n",
       "</style>\n",
       "<table border=\"1\" class=\"dataframe\">\n",
       "  <thead>\n",
       "    <tr style=\"text-align: right;\">\n",
       "      <th></th>\n",
       "      <th>subjects</th>\n",
       "      <th>sem1</th>\n",
       "      <th>sem2</th>\n",
       "    </tr>\n",
       "  </thead>\n",
       "  <tbody>\n",
       "    <tr>\n",
       "      <th>0</th>\n",
       "      <td>maths</td>\n",
       "      <td>60</td>\n",
       "      <td>63</td>\n",
       "    </tr>\n",
       "    <tr>\n",
       "      <th>1</th>\n",
       "      <td>physics</td>\n",
       "      <td>70</td>\n",
       "      <td>71</td>\n",
       "    </tr>\n",
       "    <tr>\n",
       "      <th>2</th>\n",
       "      <td>chemistry</td>\n",
       "      <td>80</td>\n",
       "      <td>85</td>\n",
       "    </tr>\n",
       "    <tr>\n",
       "      <th>3</th>\n",
       "      <td>biology</td>\n",
       "      <td>90</td>\n",
       "      <td>89</td>\n",
       "    </tr>\n",
       "  </tbody>\n",
       "</table>\n",
       "</div>"
      ],
      "text/plain": [
       "    subjects  sem1  sem2\n",
       "0      maths    60    63\n",
       "1    physics    70    71\n",
       "2  chemistry    80    85\n",
       "3    biology    90    89"
      ]
     },
     "execution_count": 33,
     "metadata": {},
     "output_type": "execute_result"
    }
   ],
   "source": [
    "data_concatenated.loc['Arjun']"
   ]
  },
  {
   "cell_type": "code",
   "execution_count": 34,
   "id": "fbfa1acf-1d85-492c-8727-615ce6e5da88",
   "metadata": {},
   "outputs": [
    {
     "data": {
      "text/html": [
       "<div>\n",
       "<style scoped>\n",
       "    .dataframe tbody tr th:only-of-type {\n",
       "        vertical-align: middle;\n",
       "    }\n",
       "\n",
       "    .dataframe tbody tr th {\n",
       "        vertical-align: top;\n",
       "    }\n",
       "\n",
       "    .dataframe thead th {\n",
       "        text-align: right;\n",
       "    }\n",
       "</style>\n",
       "<table border=\"1\" class=\"dataframe\">\n",
       "  <thead>\n",
       "    <tr style=\"text-align: right;\">\n",
       "      <th></th>\n",
       "      <th>subjects</th>\n",
       "      <th>sem1</th>\n",
       "      <th>sem2</th>\n",
       "    </tr>\n",
       "  </thead>\n",
       "  <tbody>\n",
       "    <tr>\n",
       "      <th>0</th>\n",
       "      <td>maths</td>\n",
       "      <td>63</td>\n",
       "      <td>73</td>\n",
       "    </tr>\n",
       "    <tr>\n",
       "      <th>1</th>\n",
       "      <td>physics</td>\n",
       "      <td>77</td>\n",
       "      <td>81</td>\n",
       "    </tr>\n",
       "    <tr>\n",
       "      <th>2</th>\n",
       "      <td>chemistry</td>\n",
       "      <td>89</td>\n",
       "      <td>88</td>\n",
       "    </tr>\n",
       "    <tr>\n",
       "      <th>3</th>\n",
       "      <td>computers</td>\n",
       "      <td>92</td>\n",
       "      <td>83</td>\n",
       "    </tr>\n",
       "  </tbody>\n",
       "</table>\n",
       "</div>"
      ],
      "text/plain": [
       "    subjects  sem1  sem2\n",
       "0      maths    63    73\n",
       "1    physics    77    81\n",
       "2  chemistry    89    88\n",
       "3  computers    92    83"
      ]
     },
     "execution_count": 34,
     "metadata": {},
     "output_type": "execute_result"
    }
   ],
   "source": [
    "data_concatenated.loc['Sanu']"
   ]
  },
  {
   "cell_type": "markdown",
   "id": "e3389983-b682-4a2f-b58e-f6adfed6f1fb",
   "metadata": {},
   "source": [
    "### Merging DataFrames\n",
    "* The most important part of merge over concat is that, the merge() combines the DataFrames on the basis of values  of common columns whereas concat() just appends the DataFrames."
   ]
  },
  {
   "cell_type": "code",
   "execution_count": 35,
   "id": "1ef47a96-1ba9-4960-83a2-90c52b32e2ff",
   "metadata": {},
   "outputs": [
    {
     "data": {
      "text/html": [
       "<div>\n",
       "<style scoped>\n",
       "    .dataframe tbody tr th:only-of-type {\n",
       "        vertical-align: middle;\n",
       "    }\n",
       "\n",
       "    .dataframe tbody tr th {\n",
       "        vertical-align: top;\n",
       "    }\n",
       "\n",
       "    .dataframe thead th {\n",
       "        text-align: right;\n",
       "    }\n",
       "</style>\n",
       "<table border=\"1\" class=\"dataframe\">\n",
       "  <thead>\n",
       "    <tr style=\"text-align: right;\">\n",
       "      <th></th>\n",
       "      <th>subjects</th>\n",
       "      <th>sem1</th>\n",
       "      <th>sem2</th>\n",
       "    </tr>\n",
       "  </thead>\n",
       "  <tbody>\n",
       "    <tr>\n",
       "      <th>0</th>\n",
       "      <td>maths</td>\n",
       "      <td>60</td>\n",
       "      <td>63</td>\n",
       "    </tr>\n",
       "    <tr>\n",
       "      <th>1</th>\n",
       "      <td>physics</td>\n",
       "      <td>70</td>\n",
       "      <td>71</td>\n",
       "    </tr>\n",
       "    <tr>\n",
       "      <th>2</th>\n",
       "      <td>chemistry</td>\n",
       "      <td>80</td>\n",
       "      <td>85</td>\n",
       "    </tr>\n",
       "    <tr>\n",
       "      <th>3</th>\n",
       "      <td>biology</td>\n",
       "      <td>90</td>\n",
       "      <td>89</td>\n",
       "    </tr>\n",
       "  </tbody>\n",
       "</table>\n",
       "</div>"
      ],
      "text/plain": [
       "    subjects  sem1  sem2\n",
       "0      maths    60    63\n",
       "1    physics    70    71\n",
       "2  chemistry    80    85\n",
       "3    biology    90    89"
      ]
     },
     "execution_count": 35,
     "metadata": {},
     "output_type": "execute_result"
    }
   ],
   "source": [
    "data_Arjun"
   ]
  },
  {
   "cell_type": "code",
   "execution_count": 36,
   "id": "e559cdb3-d275-4bf2-8779-bec95b84f393",
   "metadata": {},
   "outputs": [
    {
     "data": {
      "text/html": [
       "<div>\n",
       "<style scoped>\n",
       "    .dataframe tbody tr th:only-of-type {\n",
       "        vertical-align: middle;\n",
       "    }\n",
       "\n",
       "    .dataframe tbody tr th {\n",
       "        vertical-align: top;\n",
       "    }\n",
       "\n",
       "    .dataframe thead th {\n",
       "        text-align: right;\n",
       "    }\n",
       "</style>\n",
       "<table border=\"1\" class=\"dataframe\">\n",
       "  <thead>\n",
       "    <tr style=\"text-align: right;\">\n",
       "      <th></th>\n",
       "      <th>subjects</th>\n",
       "      <th>sem1</th>\n",
       "      <th>sem2</th>\n",
       "    </tr>\n",
       "  </thead>\n",
       "  <tbody>\n",
       "    <tr>\n",
       "      <th>0</th>\n",
       "      <td>maths</td>\n",
       "      <td>63</td>\n",
       "      <td>73</td>\n",
       "    </tr>\n",
       "    <tr>\n",
       "      <th>1</th>\n",
       "      <td>physics</td>\n",
       "      <td>77</td>\n",
       "      <td>81</td>\n",
       "    </tr>\n",
       "    <tr>\n",
       "      <th>2</th>\n",
       "      <td>chemistry</td>\n",
       "      <td>89</td>\n",
       "      <td>88</td>\n",
       "    </tr>\n",
       "    <tr>\n",
       "      <th>3</th>\n",
       "      <td>computers</td>\n",
       "      <td>92</td>\n",
       "      <td>83</td>\n",
       "    </tr>\n",
       "  </tbody>\n",
       "</table>\n",
       "</div>"
      ],
      "text/plain": [
       "    subjects  sem1  sem2\n",
       "0      maths    63    73\n",
       "1    physics    77    81\n",
       "2  chemistry    89    88\n",
       "3  computers    92    83"
      ]
     },
     "execution_count": 36,
     "metadata": {},
     "output_type": "execute_result"
    }
   ],
   "source": [
    "data_Sanu"
   ]
  },
  {
   "cell_type": "code",
   "execution_count": 37,
   "id": "956531a2-8105-499f-906b-51d02adf5c43",
   "metadata": {},
   "outputs": [
    {
     "data": {
      "text/html": [
       "<div>\n",
       "<style scoped>\n",
       "    .dataframe tbody tr th:only-of-type {\n",
       "        vertical-align: middle;\n",
       "    }\n",
       "\n",
       "    .dataframe tbody tr th {\n",
       "        vertical-align: top;\n",
       "    }\n",
       "\n",
       "    .dataframe thead th {\n",
       "        text-align: right;\n",
       "    }\n",
       "</style>\n",
       "<table border=\"1\" class=\"dataframe\">\n",
       "  <thead>\n",
       "    <tr style=\"text-align: right;\">\n",
       "      <th></th>\n",
       "      <th>subjects</th>\n",
       "      <th>sem1_x</th>\n",
       "      <th>sem2_x</th>\n",
       "      <th>sem1_y</th>\n",
       "      <th>sem2_y</th>\n",
       "    </tr>\n",
       "  </thead>\n",
       "  <tbody>\n",
       "    <tr>\n",
       "      <th>0</th>\n",
       "      <td>maths</td>\n",
       "      <td>60</td>\n",
       "      <td>63</td>\n",
       "      <td>63</td>\n",
       "      <td>73</td>\n",
       "    </tr>\n",
       "    <tr>\n",
       "      <th>1</th>\n",
       "      <td>physics</td>\n",
       "      <td>70</td>\n",
       "      <td>71</td>\n",
       "      <td>77</td>\n",
       "      <td>81</td>\n",
       "    </tr>\n",
       "    <tr>\n",
       "      <th>2</th>\n",
       "      <td>chemistry</td>\n",
       "      <td>80</td>\n",
       "      <td>85</td>\n",
       "      <td>89</td>\n",
       "      <td>88</td>\n",
       "    </tr>\n",
       "  </tbody>\n",
       "</table>\n",
       "</div>"
      ],
      "text/plain": [
       "    subjects  sem1_x  sem2_x  sem1_y  sem2_y\n",
       "0      maths      60      63      63      73\n",
       "1    physics      70      71      77      81\n",
       "2  chemistry      80      85      89      88"
      ]
     },
     "execution_count": 37,
     "metadata": {},
     "output_type": "execute_result"
    }
   ],
   "source": [
    "data_Merged = pd.merge(data_Arjun, data_Sanu, on='subjects')\n",
    "data_Merged"
   ]
  },
  {
   "cell_type": "code",
   "execution_count": 38,
   "id": "6c58a3ae-4e2a-41b8-8862-edd7e403d5d1",
   "metadata": {},
   "outputs": [
    {
     "data": {
      "text/html": [
       "<div>\n",
       "<style scoped>\n",
       "    .dataframe tbody tr th:only-of-type {\n",
       "        vertical-align: middle;\n",
       "    }\n",
       "\n",
       "    .dataframe tbody tr th {\n",
       "        vertical-align: top;\n",
       "    }\n",
       "\n",
       "    .dataframe thead th {\n",
       "        text-align: right;\n",
       "    }\n",
       "</style>\n",
       "<table border=\"1\" class=\"dataframe\">\n",
       "  <thead>\n",
       "    <tr style=\"text-align: right;\">\n",
       "      <th></th>\n",
       "      <th>subjects</th>\n",
       "      <th>sem1_x</th>\n",
       "      <th>sem2_x</th>\n",
       "      <th>sem1_y</th>\n",
       "      <th>sem2_y</th>\n",
       "    </tr>\n",
       "  </thead>\n",
       "  <tbody>\n",
       "    <tr>\n",
       "      <th>0</th>\n",
       "      <td>maths</td>\n",
       "      <td>60.0</td>\n",
       "      <td>63.0</td>\n",
       "      <td>63.0</td>\n",
       "      <td>73.0</td>\n",
       "    </tr>\n",
       "    <tr>\n",
       "      <th>1</th>\n",
       "      <td>physics</td>\n",
       "      <td>70.0</td>\n",
       "      <td>71.0</td>\n",
       "      <td>77.0</td>\n",
       "      <td>81.0</td>\n",
       "    </tr>\n",
       "    <tr>\n",
       "      <th>2</th>\n",
       "      <td>chemistry</td>\n",
       "      <td>80.0</td>\n",
       "      <td>85.0</td>\n",
       "      <td>89.0</td>\n",
       "      <td>88.0</td>\n",
       "    </tr>\n",
       "    <tr>\n",
       "      <th>3</th>\n",
       "      <td>biology</td>\n",
       "      <td>90.0</td>\n",
       "      <td>89.0</td>\n",
       "      <td>NaN</td>\n",
       "      <td>NaN</td>\n",
       "    </tr>\n",
       "    <tr>\n",
       "      <th>4</th>\n",
       "      <td>computers</td>\n",
       "      <td>NaN</td>\n",
       "      <td>NaN</td>\n",
       "      <td>92.0</td>\n",
       "      <td>83.0</td>\n",
       "    </tr>\n",
       "  </tbody>\n",
       "</table>\n",
       "</div>"
      ],
      "text/plain": [
       "    subjects  sem1_x  sem2_x  sem1_y  sem2_y\n",
       "0      maths    60.0    63.0    63.0    73.0\n",
       "1    physics    70.0    71.0    77.0    81.0\n",
       "2  chemistry    80.0    85.0    89.0    88.0\n",
       "3    biology    90.0    89.0     NaN     NaN\n",
       "4  computers     NaN     NaN    92.0    83.0"
      ]
     },
     "execution_count": 38,
     "metadata": {},
     "output_type": "execute_result"
    }
   ],
   "source": [
    "data_Merged = pd.merge(data_Arjun, data_Sanu, how='outer',on='subjects')\n",
    "data_Merged"
   ]
  },
  {
   "cell_type": "markdown",
   "id": "86052686-b796-484d-8fbc-f0a8b9ac5b52",
   "metadata": {},
   "source": [
    "#### Changing the suffixes"
   ]
  },
  {
   "cell_type": "code",
   "execution_count": null,
   "id": "5275d051-110a-46e4-b59b-489337fb83c5",
   "metadata": {},
   "outputs": [],
   "source": [
    "data_Merged = pd.merge(data_Arjun, data_Sanu, how='outer',on='subjects', suffixes=['_Arjun', '_Sanu'])\n",
    "data_Merged"
   ]
  },
  {
   "cell_type": "markdown",
   "id": "4249433a-7aca-4190-83fc-5982ec630def",
   "metadata": {},
   "source": [
    "### Types of Joins"
   ]
  },
  {
   "attachments": {
    "31bf3131-e03f-4ee5-ad19-3fe3cb23ae10.PNG": {
     "image/png": "[encoded data removed]"
    },
    "5a64b7db-2a1a-4f70-ab52-c0208e7d078c.PNG": {
     "image/png": "[encoded data removed]"
    },
    "8e4555ed-afbc-4f5e-b58f-babc6f6ca9e8.PNG": {
     "image/png": "[encoded data removed]"
    }
   },
   "cell_type": "markdown",
   "id": "b91a39a1-4a8f-4cad-84a6-d5e5247a15b3",
   "metadata": {},
   "source": [
    "![02.PNG](attachment:8e4555ed-afbc-4f5e-b58f-babc6f6ca9e8.PNG)!![01.PNG](attachment:31bf3131-e03f-4ee5-ad19-3fe3cb23ae10.PNG)![01.PNG](attachment:5a64b7db-2a1a-4f70-ab52-c0208e7d078c.PNG)"
   ]
  },
  {
   "cell_type": "code",
   "execution_count": 39,
   "id": "62611c5d-409f-44d5-9e18-b24a3fb923b3",
   "metadata": {},
   "outputs": [],
   "source": [
    "table_1_dict = {'OrderID': {0: 12025, 1: 12030, 2: 12032, 3: 12034, 4: 12035},\n",
    " 'CustomerID': {0: 101, 1: 105, 2: 110, 3: 115, 4: 120},\n",
    " 'OrderName': {0: 'Peter', 1: 'Robert', 2: 'James', 3: 'Andrew', 4: 'Mathew'},\n",
    " 'ProductName': {0: 'ABC', 1: 'XYX', 2: 'XYZ', 3: 'PQR', 4: 'AAA'}}"
   ]
  },
  {
   "cell_type": "code",
   "execution_count": 40,
   "id": "36b6a792-07a7-48e1-b4a1-ccc742b787f2",
   "metadata": {},
   "outputs": [],
   "source": [
    "Table_1 = pd.DataFrame(table_1_dict)"
   ]
  },
  {
   "cell_type": "code",
   "execution_count": 41,
   "id": "214ef585-90e5-4fae-925c-4f1440b30d32",
   "metadata": {},
   "outputs": [],
   "source": [
    "table_2_dict = {'CustomerID': {0: 100, 1: 101, 2: 103, 3: 105, 4: 110, 5: 120},\n",
    " 'CustomerName': {0: 'Messy',\n",
    "  1: 'Prince',\n",
    "  2: 'Maria Fernandez',\n",
    "  3: 'Jasmine',\n",
    "  4: 'Faf Weasel',\n",
    "  5: 'Romen Rocket'},\n",
    " 'Country': {0: 'Maxico',\n",
    "  1: 'Taiwan',\n",
    "  2: 'Turkey',\n",
    "  3: 'Paris',\n",
    "  4: 'Indonesia',\n",
    "  5: 'Russia'}}"
   ]
  },
  {
   "cell_type": "code",
   "execution_count": 42,
   "id": "9ca40454-ee3a-45f8-ab04-3744f300bb69",
   "metadata": {},
   "outputs": [],
   "source": [
    "Table_2 = pd.DataFrame(table_2_dict)"
   ]
  },
  {
   "cell_type": "code",
   "execution_count": 43,
   "id": "f2cf1336-fe02-4ea8-8303-17c398f9e38a",
   "metadata": {},
   "outputs": [
    {
     "data": {
      "text/html": [
       "<div>\n",
       "<style scoped>\n",
       "    .dataframe tbody tr th:only-of-type {\n",
       "        vertical-align: middle;\n",
       "    }\n",
       "\n",
       "    .dataframe tbody tr th {\n",
       "        vertical-align: top;\n",
       "    }\n",
       "\n",
       "    .dataframe thead th {\n",
       "        text-align: right;\n",
       "    }\n",
       "</style>\n",
       "<table border=\"1\" class=\"dataframe\">\n",
       "  <thead>\n",
       "    <tr style=\"text-align: right;\">\n",
       "      <th></th>\n",
       "      <th>OrderID</th>\n",
       "      <th>CustomerID</th>\n",
       "      <th>OrderName</th>\n",
       "      <th>ProductName</th>\n",
       "    </tr>\n",
       "  </thead>\n",
       "  <tbody>\n",
       "    <tr>\n",
       "      <th>0</th>\n",
       "      <td>12025</td>\n",
       "      <td>101</td>\n",
       "      <td>Peter</td>\n",
       "      <td>ABC</td>\n",
       "    </tr>\n",
       "    <tr>\n",
       "      <th>1</th>\n",
       "      <td>12030</td>\n",
       "      <td>105</td>\n",
       "      <td>Robert</td>\n",
       "      <td>XYX</td>\n",
       "    </tr>\n",
       "    <tr>\n",
       "      <th>2</th>\n",
       "      <td>12032</td>\n",
       "      <td>110</td>\n",
       "      <td>James</td>\n",
       "      <td>XYZ</td>\n",
       "    </tr>\n",
       "    <tr>\n",
       "      <th>3</th>\n",
       "      <td>12034</td>\n",
       "      <td>115</td>\n",
       "      <td>Andrew</td>\n",
       "      <td>PQR</td>\n",
       "    </tr>\n",
       "    <tr>\n",
       "      <th>4</th>\n",
       "      <td>12035</td>\n",
       "      <td>120</td>\n",
       "      <td>Mathew</td>\n",
       "      <td>AAA</td>\n",
       "    </tr>\n",
       "  </tbody>\n",
       "</table>\n",
       "</div>"
      ],
      "text/plain": [
       "   OrderID  CustomerID OrderName ProductName\n",
       "0    12025         101     Peter         ABC\n",
       "1    12030         105    Robert         XYX\n",
       "2    12032         110     James         XYZ\n",
       "3    12034         115    Andrew         PQR\n",
       "4    12035         120    Mathew         AAA"
      ]
     },
     "execution_count": 43,
     "metadata": {},
     "output_type": "execute_result"
    }
   ],
   "source": [
    "Table_1"
   ]
  },
  {
   "cell_type": "code",
   "execution_count": 44,
   "id": "5b86ffeb-b11c-4a5e-ba73-4f9b03ee07ad",
   "metadata": {},
   "outputs": [
    {
     "data": {
      "text/html": [
       "<div>\n",
       "<style scoped>\n",
       "    .dataframe tbody tr th:only-of-type {\n",
       "        vertical-align: middle;\n",
       "    }\n",
       "\n",
       "    .dataframe tbody tr th {\n",
       "        vertical-align: top;\n",
       "    }\n",
       "\n",
       "    .dataframe thead th {\n",
       "        text-align: right;\n",
       "    }\n",
       "</style>\n",
       "<table border=\"1\" class=\"dataframe\">\n",
       "  <thead>\n",
       "    <tr style=\"text-align: right;\">\n",
       "      <th></th>\n",
       "      <th>CustomerID</th>\n",
       "      <th>CustomerName</th>\n",
       "      <th>Country</th>\n",
       "    </tr>\n",
       "  </thead>\n",
       "  <tbody>\n",
       "    <tr>\n",
       "      <th>0</th>\n",
       "      <td>100</td>\n",
       "      <td>Messy</td>\n",
       "      <td>Maxico</td>\n",
       "    </tr>\n",
       "    <tr>\n",
       "      <th>1</th>\n",
       "      <td>101</td>\n",
       "      <td>Prince</td>\n",
       "      <td>Taiwan</td>\n",
       "    </tr>\n",
       "    <tr>\n",
       "      <th>2</th>\n",
       "      <td>103</td>\n",
       "      <td>Maria Fernandez</td>\n",
       "      <td>Turkey</td>\n",
       "    </tr>\n",
       "    <tr>\n",
       "      <th>3</th>\n",
       "      <td>105</td>\n",
       "      <td>Jasmine</td>\n",
       "      <td>Paris</td>\n",
       "    </tr>\n",
       "    <tr>\n",
       "      <th>4</th>\n",
       "      <td>110</td>\n",
       "      <td>Faf Weasel</td>\n",
       "      <td>Indonesia</td>\n",
       "    </tr>\n",
       "    <tr>\n",
       "      <th>5</th>\n",
       "      <td>120</td>\n",
       "      <td>Romen Rocket</td>\n",
       "      <td>Russia</td>\n",
       "    </tr>\n",
       "  </tbody>\n",
       "</table>\n",
       "</div>"
      ],
      "text/plain": [
       "   CustomerID     CustomerName    Country\n",
       "0         100            Messy     Maxico\n",
       "1         101           Prince     Taiwan\n",
       "2         103  Maria Fernandez     Turkey\n",
       "3         105          Jasmine      Paris\n",
       "4         110       Faf Weasel  Indonesia\n",
       "5         120     Romen Rocket     Russia"
      ]
     },
     "execution_count": 44,
     "metadata": {},
     "output_type": "execute_result"
    }
   ],
   "source": [
    "Table_2"
   ]
  },
  {
   "cell_type": "code",
   "execution_count": 45,
   "id": "eb4d1b0d-6b3e-4740-86e5-968c70e94e8c",
   "metadata": {},
   "outputs": [
    {
     "data": {
      "text/html": [
       "<div>\n",
       "<style scoped>\n",
       "    .dataframe tbody tr th:only-of-type {\n",
       "        vertical-align: middle;\n",
       "    }\n",
       "\n",
       "    .dataframe tbody tr th {\n",
       "        vertical-align: top;\n",
       "    }\n",
       "\n",
       "    .dataframe thead th {\n",
       "        text-align: right;\n",
       "    }\n",
       "</style>\n",
       "<table border=\"1\" class=\"dataframe\">\n",
       "  <thead>\n",
       "    <tr style=\"text-align: right;\">\n",
       "      <th></th>\n",
       "      <th>OrderID</th>\n",
       "      <th>CustomerID</th>\n",
       "      <th>OrderName</th>\n",
       "      <th>ProductName</th>\n",
       "      <th>CustomerName</th>\n",
       "      <th>Country</th>\n",
       "    </tr>\n",
       "  </thead>\n",
       "  <tbody>\n",
       "    <tr>\n",
       "      <th>0</th>\n",
       "      <td>12025</td>\n",
       "      <td>101</td>\n",
       "      <td>Peter</td>\n",
       "      <td>ABC</td>\n",
       "      <td>Prince</td>\n",
       "      <td>Taiwan</td>\n",
       "    </tr>\n",
       "    <tr>\n",
       "      <th>1</th>\n",
       "      <td>12030</td>\n",
       "      <td>105</td>\n",
       "      <td>Robert</td>\n",
       "      <td>XYX</td>\n",
       "      <td>Jasmine</td>\n",
       "      <td>Paris</td>\n",
       "    </tr>\n",
       "    <tr>\n",
       "      <th>2</th>\n",
       "      <td>12032</td>\n",
       "      <td>110</td>\n",
       "      <td>James</td>\n",
       "      <td>XYZ</td>\n",
       "      <td>Faf Weasel</td>\n",
       "      <td>Indonesia</td>\n",
       "    </tr>\n",
       "    <tr>\n",
       "      <th>3</th>\n",
       "      <td>12035</td>\n",
       "      <td>120</td>\n",
       "      <td>Mathew</td>\n",
       "      <td>AAA</td>\n",
       "      <td>Romen Rocket</td>\n",
       "      <td>Russia</td>\n",
       "    </tr>\n",
       "  </tbody>\n",
       "</table>\n",
       "</div>"
      ],
      "text/plain": [
       "   OrderID  CustomerID OrderName ProductName  CustomerName    Country\n",
       "0    12025         101     Peter         ABC        Prince     Taiwan\n",
       "1    12030         105    Robert         XYX       Jasmine      Paris\n",
       "2    12032         110     James         XYZ    Faf Weasel  Indonesia\n",
       "3    12035         120    Mathew         AAA  Romen Rocket     Russia"
      ]
     },
     "execution_count": 45,
     "metadata": {},
     "output_type": "execute_result"
    }
   ],
   "source": [
    "pd.merge(Table_1, Table_2, how='inner', on='CustomerID')"
   ]
  },
  {
   "cell_type": "code",
   "execution_count": 46,
   "id": "76676898-eeb6-499d-97be-85de2d0265f3",
   "metadata": {},
   "outputs": [
    {
     "data": {
      "text/html": [
       "<div>\n",
       "<style scoped>\n",
       "    .dataframe tbody tr th:only-of-type {\n",
       "        vertical-align: middle;\n",
       "    }\n",
       "\n",
       "    .dataframe tbody tr th {\n",
       "        vertical-align: top;\n",
       "    }\n",
       "\n",
       "    .dataframe thead th {\n",
       "        text-align: right;\n",
       "    }\n",
       "</style>\n",
       "<table border=\"1\" class=\"dataframe\">\n",
       "  <thead>\n",
       "    <tr style=\"text-align: right;\">\n",
       "      <th></th>\n",
       "      <th>OrderID</th>\n",
       "      <th>CustomerID</th>\n",
       "      <th>OrderName</th>\n",
       "      <th>ProductName</th>\n",
       "      <th>CustomerName</th>\n",
       "      <th>Country</th>\n",
       "    </tr>\n",
       "  </thead>\n",
       "  <tbody>\n",
       "    <tr>\n",
       "      <th>0</th>\n",
       "      <td>12025.0</td>\n",
       "      <td>101</td>\n",
       "      <td>Peter</td>\n",
       "      <td>ABC</td>\n",
       "      <td>Prince</td>\n",
       "      <td>Taiwan</td>\n",
       "    </tr>\n",
       "    <tr>\n",
       "      <th>1</th>\n",
       "      <td>12030.0</td>\n",
       "      <td>105</td>\n",
       "      <td>Robert</td>\n",
       "      <td>XYX</td>\n",
       "      <td>Jasmine</td>\n",
       "      <td>Paris</td>\n",
       "    </tr>\n",
       "    <tr>\n",
       "      <th>2</th>\n",
       "      <td>12032.0</td>\n",
       "      <td>110</td>\n",
       "      <td>James</td>\n",
       "      <td>XYZ</td>\n",
       "      <td>Faf Weasel</td>\n",
       "      <td>Indonesia</td>\n",
       "    </tr>\n",
       "    <tr>\n",
       "      <th>3</th>\n",
       "      <td>12034.0</td>\n",
       "      <td>115</td>\n",
       "      <td>Andrew</td>\n",
       "      <td>PQR</td>\n",
       "      <td>NaN</td>\n",
       "      <td>NaN</td>\n",
       "    </tr>\n",
       "    <tr>\n",
       "      <th>4</th>\n",
       "      <td>12035.0</td>\n",
       "      <td>120</td>\n",
       "      <td>Mathew</td>\n",
       "      <td>AAA</td>\n",
       "      <td>Romen Rocket</td>\n",
       "      <td>Russia</td>\n",
       "    </tr>\n",
       "    <tr>\n",
       "      <th>5</th>\n",
       "      <td>NaN</td>\n",
       "      <td>100</td>\n",
       "      <td>NaN</td>\n",
       "      <td>NaN</td>\n",
       "      <td>Messy</td>\n",
       "      <td>Maxico</td>\n",
       "    </tr>\n",
       "    <tr>\n",
       "      <th>6</th>\n",
       "      <td>NaN</td>\n",
       "      <td>103</td>\n",
       "      <td>NaN</td>\n",
       "      <td>NaN</td>\n",
       "      <td>Maria Fernandez</td>\n",
       "      <td>Turkey</td>\n",
       "    </tr>\n",
       "  </tbody>\n",
       "</table>\n",
       "</div>"
      ],
      "text/plain": [
       "   OrderID  CustomerID OrderName ProductName     CustomerName    Country\n",
       "0  12025.0         101     Peter         ABC           Prince     Taiwan\n",
       "1  12030.0         105    Robert         XYX          Jasmine      Paris\n",
       "2  12032.0         110     James         XYZ       Faf Weasel  Indonesia\n",
       "3  12034.0         115    Andrew         PQR              NaN        NaN\n",
       "4  12035.0         120    Mathew         AAA     Romen Rocket     Russia\n",
       "5      NaN         100       NaN         NaN            Messy     Maxico\n",
       "6      NaN         103       NaN         NaN  Maria Fernandez     Turkey"
      ]
     },
     "execution_count": 46,
     "metadata": {},
     "output_type": "execute_result"
    }
   ],
   "source": [
    "pd.merge(Table_1, Table_2, how='outer', on='CustomerID')"
   ]
  },
  {
   "cell_type": "code",
   "execution_count": 47,
   "id": "cacb9604-5c73-4c96-9e52-d6cb2aa500a2",
   "metadata": {},
   "outputs": [
    {
     "data": {
      "text/html": [
       "<div>\n",
       "<style scoped>\n",
       "    .dataframe tbody tr th:only-of-type {\n",
       "        vertical-align: middle;\n",
       "    }\n",
       "\n",
       "    .dataframe tbody tr th {\n",
       "        vertical-align: top;\n",
       "    }\n",
       "\n",
       "    .dataframe thead th {\n",
       "        text-align: right;\n",
       "    }\n",
       "</style>\n",
       "<table border=\"1\" class=\"dataframe\">\n",
       "  <thead>\n",
       "    <tr style=\"text-align: right;\">\n",
       "      <th></th>\n",
       "      <th>OrderID</th>\n",
       "      <th>CustomerID</th>\n",
       "      <th>OrderName</th>\n",
       "      <th>ProductName</th>\n",
       "      <th>CustomerName</th>\n",
       "      <th>Country</th>\n",
       "    </tr>\n",
       "  </thead>\n",
       "  <tbody>\n",
       "    <tr>\n",
       "      <th>0</th>\n",
       "      <td>12025</td>\n",
       "      <td>101</td>\n",
       "      <td>Peter</td>\n",
       "      <td>ABC</td>\n",
       "      <td>Prince</td>\n",
       "      <td>Taiwan</td>\n",
       "    </tr>\n",
       "    <tr>\n",
       "      <th>1</th>\n",
       "      <td>12030</td>\n",
       "      <td>105</td>\n",
       "      <td>Robert</td>\n",
       "      <td>XYX</td>\n",
       "      <td>Jasmine</td>\n",
       "      <td>Paris</td>\n",
       "    </tr>\n",
       "    <tr>\n",
       "      <th>2</th>\n",
       "      <td>12032</td>\n",
       "      <td>110</td>\n",
       "      <td>James</td>\n",
       "      <td>XYZ</td>\n",
       "      <td>Faf Weasel</td>\n",
       "      <td>Indonesia</td>\n",
       "    </tr>\n",
       "    <tr>\n",
       "      <th>3</th>\n",
       "      <td>12034</td>\n",
       "      <td>115</td>\n",
       "      <td>Andrew</td>\n",
       "      <td>PQR</td>\n",
       "      <td>NaN</td>\n",
       "      <td>NaN</td>\n",
       "    </tr>\n",
       "    <tr>\n",
       "      <th>4</th>\n",
       "      <td>12035</td>\n",
       "      <td>120</td>\n",
       "      <td>Mathew</td>\n",
       "      <td>AAA</td>\n",
       "      <td>Romen Rocket</td>\n",
       "      <td>Russia</td>\n",
       "    </tr>\n",
       "  </tbody>\n",
       "</table>\n",
       "</div>"
      ],
      "text/plain": [
       "   OrderID  CustomerID OrderName ProductName  CustomerName    Country\n",
       "0    12025         101     Peter         ABC        Prince     Taiwan\n",
       "1    12030         105    Robert         XYX       Jasmine      Paris\n",
       "2    12032         110     James         XYZ    Faf Weasel  Indonesia\n",
       "3    12034         115    Andrew         PQR           NaN        NaN\n",
       "4    12035         120    Mathew         AAA  Romen Rocket     Russia"
      ]
     },
     "execution_count": 47,
     "metadata": {},
     "output_type": "execute_result"
    }
   ],
   "source": [
    "pd.merge(Table_1, Table_2, how='left', on='CustomerID')"
   ]
  },
  {
   "cell_type": "code",
   "execution_count": 48,
   "id": "83cf2715-89d2-451c-8231-1fd87c17992f",
   "metadata": {
    "scrolled": true
   },
   "outputs": [
    {
     "data": {
      "text/html": [
       "<div>\n",
       "<style scoped>\n",
       "    .dataframe tbody tr th:only-of-type {\n",
       "        vertical-align: middle;\n",
       "    }\n",
       "\n",
       "    .dataframe tbody tr th {\n",
       "        vertical-align: top;\n",
       "    }\n",
       "\n",
       "    .dataframe thead th {\n",
       "        text-align: right;\n",
       "    }\n",
       "</style>\n",
       "<table border=\"1\" class=\"dataframe\">\n",
       "  <thead>\n",
       "    <tr style=\"text-align: right;\">\n",
       "      <th></th>\n",
       "      <th>OrderID</th>\n",
       "      <th>CustomerID</th>\n",
       "      <th>OrderName</th>\n",
       "      <th>ProductName</th>\n",
       "      <th>CustomerName</th>\n",
       "      <th>Country</th>\n",
       "    </tr>\n",
       "  </thead>\n",
       "  <tbody>\n",
       "    <tr>\n",
       "      <th>0</th>\n",
       "      <td>NaN</td>\n",
       "      <td>100</td>\n",
       "      <td>NaN</td>\n",
       "      <td>NaN</td>\n",
       "      <td>Messy</td>\n",
       "      <td>Maxico</td>\n",
       "    </tr>\n",
       "    <tr>\n",
       "      <th>1</th>\n",
       "      <td>12025.0</td>\n",
       "      <td>101</td>\n",
       "      <td>Peter</td>\n",
       "      <td>ABC</td>\n",
       "      <td>Prince</td>\n",
       "      <td>Taiwan</td>\n",
       "    </tr>\n",
       "    <tr>\n",
       "      <th>2</th>\n",
       "      <td>NaN</td>\n",
       "      <td>103</td>\n",
       "      <td>NaN</td>\n",
       "      <td>NaN</td>\n",
       "      <td>Maria Fernandez</td>\n",
       "      <td>Turkey</td>\n",
       "    </tr>\n",
       "    <tr>\n",
       "      <th>3</th>\n",
       "      <td>12030.0</td>\n",
       "      <td>105</td>\n",
       "      <td>Robert</td>\n",
       "      <td>XYX</td>\n",
       "      <td>Jasmine</td>\n",
       "      <td>Paris</td>\n",
       "    </tr>\n",
       "    <tr>\n",
       "      <th>4</th>\n",
       "      <td>12032.0</td>\n",
       "      <td>110</td>\n",
       "      <td>James</td>\n",
       "      <td>XYZ</td>\n",
       "      <td>Faf Weasel</td>\n",
       "      <td>Indonesia</td>\n",
       "    </tr>\n",
       "    <tr>\n",
       "      <th>5</th>\n",
       "      <td>12035.0</td>\n",
       "      <td>120</td>\n",
       "      <td>Mathew</td>\n",
       "      <td>AAA</td>\n",
       "      <td>Romen Rocket</td>\n",
       "      <td>Russia</td>\n",
       "    </tr>\n",
       "  </tbody>\n",
       "</table>\n",
       "</div>"
      ],
      "text/plain": [
       "   OrderID  CustomerID OrderName ProductName     CustomerName    Country\n",
       "0      NaN         100       NaN         NaN            Messy     Maxico\n",
       "1  12025.0         101     Peter         ABC           Prince     Taiwan\n",
       "2      NaN         103       NaN         NaN  Maria Fernandez     Turkey\n",
       "3  12030.0         105    Robert         XYX          Jasmine      Paris\n",
       "4  12032.0         110     James         XYZ       Faf Weasel  Indonesia\n",
       "5  12035.0         120    Mathew         AAA     Romen Rocket     Russia"
      ]
     },
     "execution_count": 48,
     "metadata": {},
     "output_type": "execute_result"
    }
   ],
   "source": [
    "pd.merge(Table_1, Table_2, how='right', on='CustomerID')"
   ]
  }
 ],
 "metadata": {
  "kernelspec": {
   "display_name": "Python 3 (ipykernel)",
   "language": "python",
   "name": "python3"
  },
  "language_info": {
   "codemirror_mode": {
    "name": "ipython",
    "version": 3
   },
   "file_extension": ".py",
   "mimetype": "text/x-python",
   "name": "python",
   "nbconvert_exporter": "python",
   "pygments_lexer": "ipython3",
   "version": "3.12.4"
  }
 },
 "nbformat": 4,
 "nbformat_minor": 5
}
