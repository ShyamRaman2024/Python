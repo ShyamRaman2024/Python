{
 "cells": [
  {
   "cell_type": "markdown",
   "id": "ec4f0635-0cbd-46ed-a9f9-a493d317e835",
   "metadata": {},
   "source": [
    "# Working with Dates"
   ]
  },
  {
   "cell_type": "code",
   "execution_count": null,
   "id": "9cb1c8d2-68d4-452f-8dcc-3cb846c3bcd9",
   "metadata": {},
   "outputs": [],
   "source": [
    "import pandas as pd\n",
    "import numpy as np\n",
    "import seaborn as sns\n",
    "import matplotlib.pyplot as plt\n",
    "import warnings \n",
    "warnings.filterwarnings(\"ignore\")"
   ]
  },
  {
   "cell_type": "code",
   "execution_count": null,
   "id": "143c512b-5514-4815-bfab-7f937b86da87",
   "metadata": {},
   "outputs": [],
   "source": [
    "data_normal = pd.read_csv('./Car_sales.csv')\n",
    "data_normal"
   ]
  },
  {
   "cell_type": "code",
   "execution_count": null,
   "id": "7c28d56c-439c-47cc-9974-eaa15b6e7eaf",
   "metadata": {},
   "outputs": [],
   "source": [
    "data_normal.info()"
   ]
  },
  {
   "cell_type": "code",
   "execution_count": null,
   "id": "ca2523af-ac23-4256-a549-15228a75ed53",
   "metadata": {},
   "outputs": [],
   "source": [
    "data_parse_dates = pd.read_csv('./Car_sales.csv', parse_dates=['Latest_Launch'])\n",
    "data_parse_dates"
   ]
  },
  {
   "cell_type": "code",
   "execution_count": null,
   "id": "3dc219d4-f934-417a-b38a-a44eaa11b316",
   "metadata": {},
   "outputs": [],
   "source": [
    "data_parse_dates.info()"
   ]
  },
  {
   "cell_type": "code",
   "execution_count": null,
   "id": "8deb8e16-fadd-4e4e-8fbf-5c09a1acd2ba",
   "metadata": {},
   "outputs": [],
   "source": [
    "data_normal.columns"
   ]
  },
  {
   "cell_type": "code",
   "execution_count": null,
   "id": "63b98e70-68b2-412f-aba6-dc015f8d8f2a",
   "metadata": {},
   "outputs": [],
   "source": [
    "data_normal = data_normal[['Power_perf_factor',\n",
    "       'Fuel_efficiency', 'Latest_Launch', 'Manufacturer']]"
   ]
  },
  {
   "cell_type": "code",
   "execution_count": null,
   "id": "b9173991-3205-4783-8eba-f33cb778e7ac",
   "metadata": {},
   "outputs": [],
   "source": [
    "data_normal"
   ]
  },
  {
   "cell_type": "code",
   "execution_count": null,
   "id": "1dbcdd61-3c42-4557-9185-26f525e41e2e",
   "metadata": {},
   "outputs": [],
   "source": [
    "data = data_parse_dates[['Manufacturer', 'Sales_in_thousands','Fuel_efficiency', 'Latest_Launch']]\n",
    "data.head()"
   ]
  },
  {
   "cell_type": "code",
   "execution_count": null,
   "id": "927d8918-bdd5-4b6e-b813-7b3c7757a967",
   "metadata": {},
   "outputs": [],
   "source": [
    "data['Year'] = data.Latest_Launch.dt.year"
   ]
  },
  {
   "cell_type": "code",
   "execution_count": null,
   "id": "d1470516-b7fc-4f8d-b0cf-6ef71edd58e4",
   "metadata": {},
   "outputs": [],
   "source": [
    "data"
   ]
  },
  {
   "cell_type": "code",
   "execution_count": null,
   "id": "5bc44ac9-63a4-48ba-a72f-b0880343f5dc",
   "metadata": {},
   "outputs": [],
   "source": [
    "data['Month'] = data.Latest_Launch.dt.month\n",
    "data"
   ]
  },
  {
   "cell_type": "code",
   "execution_count": null,
   "id": "464529f2-e5ce-457a-a622-4c5288a53b57",
   "metadata": {},
   "outputs": [],
   "source": [
    "data['Day'] = data.Latest_Launch.dt.day\n",
    "data"
   ]
  },
  {
   "cell_type": "markdown",
   "id": "df836ec8-71b4-4122-b876-b92dde0b64e6",
   "metadata": {},
   "source": [
    "#### Find all the necessary time related entities"
   ]
  },
  {
   "cell_type": "code",
   "execution_count": null,
   "id": "6f49d5f0-90ad-4388-8a8e-608541cf7ffd",
   "metadata": {},
   "outputs": [],
   "source": [
    "data['Month_Name'] = data.Latest_Launch.dt.month_name()\n",
    "data"
   ]
  },
  {
   "cell_type": "code",
   "execution_count": null,
   "id": "49077aa8-f394-4430-a7d4-19331d26b989",
   "metadata": {},
   "outputs": [],
   "source": [
    "data['Spanish_Month'] = data.Latest_Launch.dt.month_name(locale = 'Spanish')\n",
    "data"
   ]
  },
  {
   "cell_type": "code",
   "execution_count": null,
   "id": "fce9d6fd-0e85-414a-8f91-f9cb2052e649",
   "metadata": {},
   "outputs": [],
   "source": [
    "data['Day_Name'] = data.Latest_Launch.dt.day_name()"
   ]
  },
  {
   "cell_type": "code",
   "execution_count": null,
   "id": "bfb4a06c-0856-432c-a4b2-1c556f3aea62",
   "metadata": {},
   "outputs": [],
   "source": [
    "data"
   ]
  }
 ],
 "metadata": {
  "kernelspec": {
   "display_name": "Python 3 (ipykernel)",
   "language": "python",
   "name": "python3"
  },
  "language_info": {
   "codemirror_mode": {
    "name": "ipython",
    "version": 3
   },
   "file_extension": ".py",
   "mimetype": "text/x-python",
   "name": "python",
   "nbconvert_exporter": "python",
   "pygments_lexer": "ipython3",
   "version": "3.12.4"
  }
 },
 "nbformat": 4,
 "nbformat_minor": 5
}
