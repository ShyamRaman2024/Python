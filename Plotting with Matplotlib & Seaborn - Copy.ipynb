{
 "cells": [
  {
   "cell_type": "markdown",
   "id": "2dde9f88",
   "metadata": {},
   "source": [
    "# <center> Plotting with Matplotlib & Seaborn"
   ]
  },
  {
   "cell_type": "code",
   "execution_count": null,
   "id": "66daabe4",
   "metadata": {},
   "outputs": [],
   "source": [
    "import pandas as pd \n",
    "import numpy as np \n",
    "import warnings\n",
    "import matplotlib.pyplot as plt\n",
    "import seaborn as sns\n",
    "warnings.filterwarnings('ignore')"
   ]
  },
  {
   "cell_type": "code",
   "execution_count": null,
   "id": "83eff7b1",
   "metadata": {},
   "outputs": [],
   "source": [
    "data = pd.read_csv('./Car_sales.csv')\n",
    "data.head(10)"
   ]
  },
  {
   "cell_type": "code",
   "execution_count": null,
   "id": "98d558aa",
   "metadata": {},
   "outputs": [],
   "source": [
    "data.info()"
   ]
  },
  {
   "cell_type": "code",
   "execution_count": null,
   "id": "8b6e7d36",
   "metadata": {},
   "outputs": [],
   "source": [
    "data.describe()"
   ]
  },
  {
   "cell_type": "code",
   "execution_count": null,
   "id": "9a0e116d",
   "metadata": {},
   "outputs": [],
   "source": [
    "data.isnull().mean()*100"
   ]
  },
  {
   "cell_type": "code",
   "execution_count": null,
   "id": "39d8752e",
   "metadata": {},
   "outputs": [],
   "source": [
    "data.dropna(inplace=True)\n",
    "data.drop_duplicates(inplace=True)"
   ]
  },
  {
   "cell_type": "code",
   "execution_count": null,
   "id": "8ff335c8",
   "metadata": {},
   "outputs": [],
   "source": [
    "data.shape"
   ]
  },
  {
   "cell_type": "markdown",
   "id": "a00d9229",
   "metadata": {},
   "source": [
    "## Univariate Analysis"
   ]
  },
  {
   "cell_type": "markdown",
   "id": "9ff6e339",
   "metadata": {},
   "source": [
    "### Histogram"
   ]
  },
  {
   "cell_type": "code",
   "execution_count": null,
   "id": "471adf60-04d0-4054-b18c-0d11c4cf2f43",
   "metadata": {},
   "outputs": [],
   "source": [
    "sns.histplot(data = data, x = 'Engine_size')\n",
    "plt.show()"
   ]
  },
  {
   "cell_type": "code",
   "execution_count": null,
   "id": "013bde6b-e262-4a17-a7c2-a0fa98635a27",
   "metadata": {},
   "outputs": [],
   "source": [
    "sns.histplot(data=data, x='Price_in_thousands')\n",
    "plt.show()"
   ]
  },
  {
   "cell_type": "code",
   "execution_count": null,
   "id": "11be80c4-7b27-41ea-9c15-f85d6bd09d93",
   "metadata": {},
   "outputs": [],
   "source": [
    "sns.histplot(data = data, x = 'Wheelbase')\n",
    "plt.show()"
   ]
  },
  {
   "cell_type": "code",
   "execution_count": null,
   "id": "3a9e6db0-ef5c-467c-b6ff-cc1e384e598a",
   "metadata": {},
   "outputs": [],
   "source": [
    "sns.histplot(data = data, x= 'Width')\n",
    "plt.show()"
   ]
  },
  {
   "cell_type": "markdown",
   "id": "ef574cdf",
   "metadata": {},
   "source": [
    "## Box plot"
   ]
  },
  {
   "cell_type": "code",
   "execution_count": null,
   "id": "828dafda",
   "metadata": {},
   "outputs": [],
   "source": [
    "sns.boxplot(data=data, x='Sales_in_thousands')\n",
    "plt.show()"
   ]
  },
  {
   "cell_type": "code",
   "execution_count": null,
   "id": "f5f572ac",
   "metadata": {},
   "outputs": [],
   "source": [
    "sns.boxplot(data=data, y='Sales_in_thousands')\n",
    "plt.show()"
   ]
  },
  {
   "cell_type": "code",
   "execution_count": null,
   "id": "ff4e8a11-3d9f-43ca-a708-d6e391174a61",
   "metadata": {},
   "outputs": [],
   "source": [
    "sns.boxplot(data=data.Sales_in_thousands)\n",
    "plt.show()"
   ]
  },
  {
   "cell_type": "markdown",
   "id": "56167360",
   "metadata": {},
   "source": [
    "## Kernel Density Estimation Plot (KDE PLOT)"
   ]
  },
  {
   "cell_type": "code",
   "execution_count": null,
   "id": "024d6a5b-bf67-4b7c-8f6e-a41cbe138a8c",
   "metadata": {},
   "outputs": [],
   "source": [
    "sns.kdeplot(data = data, x = 'Sales_in_thousands')\n",
    "plt.show()"
   ]
  },
  {
   "cell_type": "code",
   "execution_count": null,
   "id": "c697f3db-0bac-4753-a328-6c666c08144a",
   "metadata": {},
   "outputs": [],
   "source": [
    "sns.boxenplot(data = data, y = 'Sales_in_thousands')\n",
    "plt.show()"
   ]
  },
  {
   "cell_type": "code",
   "execution_count": null,
   "id": "700ec40f-21c3-41cf-b20a-b9e54dae04d2",
   "metadata": {},
   "outputs": [],
   "source": [
    "sns.violinplot(data = data, y = 'Sales_in_thousands')\n",
    "plt.show()"
   ]
  },
  {
   "cell_type": "markdown",
   "id": "998b1a33",
   "metadata": {},
   "source": [
    "### Sub plots "
   ]
  },
  {
   "cell_type": "code",
   "execution_count": null,
   "id": "58e28c0e",
   "metadata": {},
   "outputs": [],
   "source": [
    "sns.histplot(data=data)\n",
    "plt.show()"
   ]
  },
  {
   "cell_type": "code",
   "execution_count": null,
   "id": "ae1d13f7-d6b2-443c-8ba1-3c01a6feb76e",
   "metadata": {},
   "outputs": [],
   "source": [
    "plt.figure(figsize=(18,6))\n",
    "sns.boxplot(data=data)\n",
    "plt.show()"
   ]
  },
  {
   "cell_type": "code",
   "execution_count": null,
   "id": "7e4e8ac3",
   "metadata": {},
   "outputs": [],
   "source": [
    "plt.figure(figsize=(18,6))\n",
    "plt.xticks(rotation = 90)\n",
    "sns.boxplot(data=data)\n",
    "plt.show()"
   ]
  },
  {
   "cell_type": "code",
   "execution_count": null,
   "id": "9a6f8a81",
   "metadata": {},
   "outputs": [],
   "source": [
    "sns.kdeplot(data=data)\n",
    "plt.show()"
   ]
  },
  {
   "cell_type": "markdown",
   "id": "f777a34a",
   "metadata": {},
   "source": [
    "### For loop to plot subplots"
   ]
  },
  {
   "cell_type": "code",
   "execution_count": null,
   "id": "ae839f1a-f6c9-4580-b3f7-4ee64419e339",
   "metadata": {},
   "outputs": [],
   "source": [
    "data.columns"
   ]
  },
  {
   "cell_type": "code",
   "execution_count": null,
   "id": "7a1d318a-7373-4007-85cb-0291b6c01ab1",
   "metadata": {},
   "outputs": [],
   "source": [
    "for i in data.columns:\n",
    "    print(i)"
   ]
  },
  {
   "cell_type": "code",
   "execution_count": null,
   "id": "6505773f",
   "metadata": {},
   "outputs": [],
   "source": [
    "for i in data.columns:\n",
    "    if data[i].dtypes != 'object':\n",
    "        sns.boxplot(y=data[i])\n",
    "        plt.show()"
   ]
  },
  {
   "cell_type": "code",
   "execution_count": null,
   "id": "d42a41ee",
   "metadata": {},
   "outputs": [],
   "source": [
    "for i in data.columns:\n",
    "    if data[i].dtypes != 'object':\n",
    "        sns.histplot(x=data[i])\n",
    "        plt.show()"
   ]
  },
  {
   "cell_type": "code",
   "execution_count": null,
   "id": "f75551e3",
   "metadata": {},
   "outputs": [],
   "source": [
    "for i in data.columns:\n",
    "    if data[i].dtypes != 'object':\n",
    "        sns.kdeplot(data=data[i])\n",
    "        plt.show()"
   ]
  },
  {
   "cell_type": "markdown",
   "id": "e3e98cbb-482f-4331-bc9d-f215d8a2054a",
   "metadata": {},
   "source": [
    "# Class 18"
   ]
  },
  {
   "cell_type": "markdown",
   "id": "7cf044e4",
   "metadata": {},
   "source": [
    "### Subplots in matplotlib"
   ]
  },
  {
   "cell_type": "code",
   "execution_count": null,
   "id": "fc1344e3",
   "metadata": {},
   "outputs": [],
   "source": [
    "plt.figure(figsize=(10,10))\n",
    "plt.subplot(2,2,1)\n",
    "sns.boxplot(data=data,y='Sales_in_thousands')\n",
    "\n",
    "plt.subplot(2,2,2)\n",
    "sns.boxplot(data=data,y='Price_in_thousands')\n",
    "\n",
    "plt.subplot(2,2,3)\n",
    "sns.boxplot(data=data,y='Engine_size')\n",
    "\n",
    "plt.subplot(2,2,4)\n",
    "sns.boxplot(data=data,y='Horsepower')\n",
    "\n",
    "plt.show()"
   ]
  },
  {
   "cell_type": "code",
   "execution_count": null,
   "id": "785cbada-6f89-4bfb-a09a-e7c0e3e55f15",
   "metadata": {},
   "outputs": [],
   "source": [
    "plt.figure(figsize=(10,5))\n",
    "plt.subplot(1,2,1)\n",
    "sns.boxplot(data=data,y='Sales_in_thousands')\n",
    "\n",
    "plt.subplot(1,2,2)\n",
    "sns.boxplot(data=data,y='Price_in_thousands')\n",
    "\n",
    "plt.show()"
   ]
  },
  {
   "cell_type": "code",
   "execution_count": null,
   "id": "4fe9b107",
   "metadata": {},
   "outputs": [],
   "source": [
    "plt.figure(figsize=(10,10))\n",
    "plt.subplot(2,2,1)\n",
    "sns.boxplot(data=data,y='Sales_in_thousands')\n",
    "\n",
    "plt.subplot(2,2,2)\n",
    "sns.boxplot(data=data,y='Price_in_thousands')\n",
    "\n",
    "plt.subplot(2,2,3)\n",
    "sns.boxplot(data=data,y='Engine_size')\n",
    "\n",
    "plt.show()"
   ]
  },
  {
   "cell_type": "markdown",
   "id": "3deeb9b8",
   "metadata": {},
   "source": [
    "## Line charts"
   ]
  },
  {
   "cell_type": "code",
   "execution_count": null,
   "id": "e913f916",
   "metadata": {},
   "outputs": [],
   "source": [
    "plt.figure(figsize=(10,6))\n",
    "plt.xlabel('Year Resale Value')\n",
    "plt.ylabel('Price')\n",
    "plt.title('LINE CHART')\n",
    "sns.lineplot(data=data,x='__year_resale_value', y='Price_in_thousands')\n",
    "plt.show()"
   ]
  },
  {
   "cell_type": "markdown",
   "id": "efc9f9ee",
   "metadata": {},
   "source": [
    "### Count plot"
   ]
  },
  {
   "cell_type": "code",
   "execution_count": null,
   "id": "c21a5d43",
   "metadata": {},
   "outputs": [],
   "source": [
    "plt.figure(figsize=(16,5))\n",
    "plt.xticks(rotation = 90)\n",
    "sns.countplot(data=data,x='Manufacturer')\n",
    "plt.show()"
   ]
  },
  {
   "cell_type": "markdown",
   "id": "ed2c63a5",
   "metadata": {},
   "source": [
    "## Area chart"
   ]
  },
  {
   "cell_type": "code",
   "execution_count": null,
   "id": "a2dfab5c",
   "metadata": {},
   "outputs": [],
   "source": [
    "plt.figure(figsize=(18,5))\n",
    "plt.xticks(rotation = 90)\n",
    "plt.stackplot(data.Manufacturer,data.Sales_in_thousands)\n",
    "plt.show()"
   ]
  },
  {
   "cell_type": "code",
   "execution_count": null,
   "id": "cf9c3577",
   "metadata": {},
   "outputs": [],
   "source": [
    "plt.figure(figsize=(18,5))\n",
    "plt.xticks(rotation = 90)\n",
    "plt.stackplot(data.Manufacturer,data.Sales_in_thousands, data.Price_in_thousands)\n",
    "plt.show()"
   ]
  },
  {
   "cell_type": "code",
   "execution_count": null,
   "id": "365bc206",
   "metadata": {},
   "outputs": [],
   "source": [
    "plt.figure(figsize=(18,5))\n",
    "plt.xticks(rotation = 90)\n",
    "plt.stackplot(data.Manufacturer,data.Sales_in_thousands, data.Price_in_thousands, data.Horsepower)\n",
    "plt.show()"
   ]
  },
  {
   "cell_type": "markdown",
   "id": "c4fa7f96",
   "metadata": {},
   "source": [
    "## Horizontal bar chart"
   ]
  },
  {
   "cell_type": "code",
   "execution_count": null,
   "id": "1ba3b348",
   "metadata": {},
   "outputs": [],
   "source": [
    "plt.figure(figsize=(6,12))\n",
    "plt.xticks(rotation = 90)\n",
    "sns.barplot(data=data, x='Sales_in_thousands', y='Manufacturer')\n",
    "plt.show()"
   ]
  },
  {
   "cell_type": "markdown",
   "id": "6db1f0be",
   "metadata": {},
   "source": [
    "## Vertical Bar plot"
   ]
  },
  {
   "cell_type": "code",
   "execution_count": null,
   "id": "07babd4d",
   "metadata": {},
   "outputs": [],
   "source": [
    "plt.figure(figsize=(12,4))\n",
    "plt.xticks(rotation = 90)\n",
    "sns.barplot(data=data, x='Manufacturer', y='Horsepower')\n",
    "plt.show()"
   ]
  },
  {
   "cell_type": "markdown",
   "id": "9ce2a0ef",
   "metadata": {},
   "source": [
    "## Scatter plot"
   ]
  },
  {
   "cell_type": "code",
   "execution_count": null,
   "id": "cd2a7542",
   "metadata": {},
   "outputs": [],
   "source": [
    "sns.scatterplot(data=data, x='Horsepower', y='Sales_in_thousands')\n",
    "plt.show()"
   ]
  },
  {
   "cell_type": "code",
   "execution_count": null,
   "id": "c2d949ad-a2ca-4a3f-9f29-9c6699959968",
   "metadata": {},
   "outputs": [],
   "source": [
    "sns.scatterplot(data = data, x = 'Engine_size', y = 'Horsepower')\n",
    "plt.show()"
   ]
  },
  {
   "cell_type": "code",
   "execution_count": null,
   "id": "960acb9b-d317-4754-af79-689e3e75e57b",
   "metadata": {},
   "outputs": [],
   "source": [
    "sns.scatterplot(data = data, x = 'Horsepower', y = 'Fuel_efficiency')\n",
    "plt.show()"
   ]
  },
  {
   "cell_type": "code",
   "execution_count": null,
   "id": "b46d314b-301b-4c95-a067-ed06be76973f",
   "metadata": {},
   "outputs": [],
   "source": [
    "sns.scatterplot(data = data, x = 'Engine_size', y = 'Horsepower', hue='Vehicle_type')\n",
    "plt.show()"
   ]
  },
  {
   "cell_type": "code",
   "execution_count": null,
   "id": "4dd33a39",
   "metadata": {},
   "outputs": [],
   "source": [
    "sns.scatterplot(data=data, x='Horsepower', y='Sales_in_thousands', hue='Vehicle_type')\n",
    "plt.show()"
   ]
  },
  {
   "cell_type": "code",
   "execution_count": null,
   "id": "e5ae1031-e00a-4e3a-90d8-b09929fbddbe",
   "metadata": {},
   "outputs": [],
   "source": [
    "sns.scatterplot(data=data, x='Horsepower', y='Sales_in_thousands',size= '__year_resale_value')\n",
    "plt.show()"
   ]
  },
  {
   "cell_type": "markdown",
   "id": "23ae7afd",
   "metadata": {},
   "source": [
    "### Pie chart"
   ]
  },
  {
   "cell_type": "code",
   "execution_count": null,
   "id": "5d0f962c-e4d3-412c-b3af-6ba337476fb4",
   "metadata": {},
   "outputs": [],
   "source": [
    "data.Vehicle_type.value_counts()"
   ]
  },
  {
   "cell_type": "code",
   "execution_count": null,
   "id": "a49a86c7",
   "metadata": {},
   "outputs": [],
   "source": [
    "data.Vehicle_type.value_counts().index"
   ]
  },
  {
   "cell_type": "code",
   "execution_count": null,
   "id": "9100afe2",
   "metadata": {},
   "outputs": [],
   "source": [
    "palette_color = sns.color_palette('dark')"
   ]
  },
  {
   "cell_type": "code",
   "execution_count": null,
   "id": "d3f6aa23-c24d-486d-bb3c-6802673f2026",
   "metadata": {},
   "outputs": [],
   "source": [
    "plt.pie(data=data, x=data.Vehicle_type.value_counts());\n",
    "plt.show()"
   ]
  },
  {
   "cell_type": "code",
   "execution_count": null,
   "id": "e6db2823",
   "metadata": {},
   "outputs": [],
   "source": [
    "plt.pie(data=data, x=data.Vehicle_type.value_counts(),explode = [0.1, 0], colors=palette_color,labels=['Passenger', 'Car'],autopct='%0.2f%%')\n",
    "plt.show()"
   ]
  },
  {
   "cell_type": "markdown",
   "id": "3536e8df",
   "metadata": {},
   "source": [
    "## Correlation matrix or Heatmap"
   ]
  },
  {
   "cell_type": "code",
   "execution_count": null,
   "id": "19a2a16c-da49-4ece-965e-00b1d13f9b31",
   "metadata": {},
   "outputs": [],
   "source": [
    "data_numerical = data.select_dtypes(float)\n",
    "data_numerical"
   ]
  },
  {
   "cell_type": "code",
   "execution_count": null,
   "id": "5318951d-d9b5-49f8-8188-fcee263668f9",
   "metadata": {},
   "outputs": [],
   "source": [
    "data_numerical.corr()"
   ]
  },
  {
   "cell_type": "code",
   "execution_count": null,
   "id": "3350536e",
   "metadata": {},
   "outputs": [],
   "source": [
    "sns.heatmap(data_numerical.corr(),annot=True)\n",
    "plt.show()"
   ]
  },
  {
   "cell_type": "markdown",
   "id": "c6181257",
   "metadata": {},
   "source": [
    "#### More cooler approach"
   ]
  },
  {
   "cell_type": "code",
   "execution_count": null,
   "id": "23dc957a",
   "metadata": {},
   "outputs": [],
   "source": [
    "data_numerical.corr()[['Price_in_thousands']]"
   ]
  },
  {
   "cell_type": "code",
   "execution_count": null,
   "id": "d7e4b9a4",
   "metadata": {},
   "outputs": [],
   "source": [
    "sns.heatmap(data_numerical.corr()[[\"Price_in_thousands\"]].sort_values(by=\"Price_in_thousands\", ascending=False), vmin=-1, vmax=1,annot=True, cmap=\"Greens\")\n",
    "plt.plot();"
   ]
  },
  {
   "cell_type": "code",
   "execution_count": null,
   "id": "7e46a055-0b7a-4b71-9811-613fa22d28d1",
   "metadata": {},
   "outputs": [],
   "source": [
    "sns.heatmap(data_numerical.corr()[[\"Horsepower\"]].sort_values(by=\"Horsepower\", ascending=False), vmin=-1, vmax=1,annot=True, cmap=\"Reds\")\n",
    "plt.plot();"
   ]
  },
  {
   "cell_type": "markdown",
   "id": "65b19f96",
   "metadata": {},
   "source": [
    "### Regplot"
   ]
  },
  {
   "cell_type": "code",
   "execution_count": null,
   "id": "b11cddba",
   "metadata": {},
   "outputs": [],
   "source": [
    "sns.regplot(data = data, x = 'Horsepower', y= 'Sales_in_thousands')\n",
    "plt.show()"
   ]
  },
  {
   "cell_type": "code",
   "execution_count": null,
   "id": "ae085b5e-b4fd-44f7-b1fc-5ff3568ea38a",
   "metadata": {},
   "outputs": [],
   "source": [
    "sns.regplot(data = data, x = 'Horsepower', y= 'Price_in_thousands')\n",
    "plt.show()"
   ]
  },
  {
   "cell_type": "markdown",
   "id": "344e4a9b",
   "metadata": {},
   "source": [
    "### Relplot"
   ]
  },
  {
   "cell_type": "code",
   "execution_count": null,
   "id": "aefea8cd",
   "metadata": {},
   "outputs": [],
   "source": [
    "sns.relplot(data = data, x = 'Horsepower', y= 'Sales_in_thousands', size='Price_in_thousands')\n",
    "plt.show()"
   ]
  },
  {
   "cell_type": "markdown",
   "id": "f0d6da69",
   "metadata": {},
   "source": [
    "## Catplot"
   ]
  },
  {
   "cell_type": "code",
   "execution_count": null,
   "id": "d668ac26",
   "metadata": {},
   "outputs": [],
   "source": [
    "sns.catplot(data = data, x = 'Vehicle_type', y= 'Sales_in_thousands')\n",
    "plt.show()"
   ]
  },
  {
   "cell_type": "markdown",
   "id": "25714466",
   "metadata": {},
   "source": [
    "## Boxen plot"
   ]
  },
  {
   "cell_type": "code",
   "execution_count": null,
   "id": "a2df8215",
   "metadata": {},
   "outputs": [],
   "source": [
    "sns.boxenplot(data=data, y='Horsepower')\n",
    "plt.show()"
   ]
  },
  {
   "cell_type": "markdown",
   "id": "11061449",
   "metadata": {},
   "source": [
    "## violin plot"
   ]
  },
  {
   "cell_type": "code",
   "execution_count": null,
   "id": "b1fe818f",
   "metadata": {},
   "outputs": [],
   "source": [
    "sns.violinplot(data=data, y='Horsepower')\n",
    "plt.show()"
   ]
  },
  {
   "cell_type": "markdown",
   "id": "a186f8d5",
   "metadata": {},
   "source": [
    "### Joint plot"
   ]
  },
  {
   "cell_type": "code",
   "execution_count": null,
   "id": "0bebfd3f",
   "metadata": {},
   "outputs": [],
   "source": [
    "sns.jointplot(data = data, x = 'Horsepower', y= 'Sales_in_thousands')\n",
    "plt.show()"
   ]
  },
  {
   "cell_type": "code",
   "execution_count": null,
   "id": "e6d0bc4a",
   "metadata": {},
   "outputs": [],
   "source": [
    "sns.jointplot(data = data, x = 'Horsepower', y= 'Sales_in_thousands', kind='hex')\n",
    "plt.show()"
   ]
  },
  {
   "cell_type": "markdown",
   "id": "0bc7f0a1",
   "metadata": {},
   "source": [
    "## Swarm plot"
   ]
  },
  {
   "cell_type": "code",
   "execution_count": null,
   "id": "b0989424",
   "metadata": {
    "scrolled": true
   },
   "outputs": [],
   "source": [
    "data.columns"
   ]
  },
  {
   "cell_type": "code",
   "execution_count": null,
   "id": "776c9241",
   "metadata": {},
   "outputs": [],
   "source": [
    "sns.swarmplot(data = data, x = 'Vehicle_type', y= 'Sales_in_thousands')\n",
    "plt.show()"
   ]
  },
  {
   "cell_type": "markdown",
   "id": "77655ffb",
   "metadata": {},
   "source": [
    "### Pair Plot"
   ]
  },
  {
   "cell_type": "code",
   "execution_count": null,
   "id": "833068cd",
   "metadata": {},
   "outputs": [],
   "source": [
    "sns.pairplot(data=data)\n",
    "plt.show()"
   ]
  },
  {
   "cell_type": "markdown",
   "id": "3361ad64-cb8c-4346-97f9-3b0a4f2964c7",
   "metadata": {},
   "source": [
    "### Loading the Seaborn datasets"
   ]
  },
  {
   "cell_type": "code",
   "execution_count": null,
   "id": "73638c08-0d5b-43da-afd6-e60029913289",
   "metadata": {},
   "outputs": [],
   "source": [
    "sns.get_dataset_names()"
   ]
  },
  {
   "cell_type": "code",
   "execution_count": null,
   "id": "c61e802a-4fcd-4193-af7f-70197f3c7cd2",
   "metadata": {},
   "outputs": [],
   "source": [
    "data_tips = sns.load_dataset('tips')"
   ]
  },
  {
   "cell_type": "code",
   "execution_count": null,
   "id": "efcfc702-3229-49d8-976a-9f57e4dfb7e4",
   "metadata": {},
   "outputs": [],
   "source": []
  }
 ],
 "metadata": {
  "kernelspec": {
   "display_name": "Python 3 (ipykernel)",
   "language": "python",
   "name": "python3"
  },
  "language_info": {
   "codemirror_mode": {
    "name": "ipython",
    "version": 3
   },
   "file_extension": ".py",
   "mimetype": "text/x-python",
   "name": "python",
   "nbconvert_exporter": "python",
   "pygments_lexer": "ipython3",
   "version": "3.12.4"
  }
 },
 "nbformat": 4,
 "nbformat_minor": 5
}
